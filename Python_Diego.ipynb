{
 "cells": [
  {
   "cell_type": "code",
   "execution_count": 7,
   "metadata": {},
   "outputs": [],
   "source": [
    "import numpy as np\n",
    "import pandas as pd\n",
    "import matplotlib.pyplot as plt\n",
    "import seaborn as sns\n",
    "import re\n",
    "\n",
    "import os # change working directory\n",
    "os.chdir(\"/Users/xuduo/Desktop/Notes/Python/Raw Data\")\n",
    "# os.getcwd() -> get current working directiory\n",
    "# os.listdir(path) -> get all the file name"
   ]
  },
  {
   "cell_type": "code",
   "execution_count": 56,
   "metadata": {},
   "outputs": [],
   "source": [
    "air = pd.read_csv('airquality.csv')\n",
    "tips = pd.read_csv('tips.csv') \n",
    "tips['tip_pct'] = 100 * tips['tip']/tips['total_bill']\n",
    "\n",
    "weather = pd.read_csv('weather_data_austin_2010.csv', parse_dates=True, index_col=\"Date\") # Date and Time\n",
    "# weather = weather.reset_index()"
   ]
  },
  {
   "cell_type": "code",
   "execution_count": 6,
   "metadata": {},
   "outputs": [
    {
     "data": {
      "text/plain": [
       "'/Users/xuduo/Desktop/Notes/Python/Raw Data'"
      ]
     },
     "execution_count": 6,
     "metadata": {},
     "output_type": "execute_result"
    }
   ],
   "source": [
    "os.getcwd()"
   ]
  },
  {
   "cell_type": "code",
   "execution_count": 41,
   "metadata": {},
   "outputs": [
    {
     "name": "stdout",
     "output_type": "stream",
     "text": [
      "101 µs ± 11.6 µs per loop (mean ± std. dev. of 7 runs, 10000 loops each)\n"
     ]
    }
   ],
   "source": [
    "# Check the process time\n",
    "%timeit air.head()"
   ]
  },
  {
   "cell_type": "markdown",
   "metadata": {},
   "source": [
    "# -------------------- Data Structure --------------------"
   ]
  },
  {
   "cell_type": "markdown",
   "metadata": {},
   "source": [
    "# -------------------- Tuple --------------------"
   ]
  },
  {
   "cell_type": "code",
   "execution_count": 6,
   "metadata": {},
   "outputs": [
    {
     "name": "stdout",
     "output_type": "stream",
     "text": [
      "Tuple: ('A', 'B', 'C') \t B \n",
      "\n"
     ]
    }
   ],
   "source": [
    "### Tuple -> '()' -> Immutable\n",
    "tup = ('A','B','C')\n",
    "# or -> tup = 'A','B','C'\n",
    "print('Tuple:', tup, '\\t', tup[1],'\\n')\n",
    "# '\\n' -> next line, '\\t' -> Increase indent\n",
    "# '\\\\n' or r'\\n' to representf the character '\\' and 'n'\n",
    "# We can use for loop to print tuple as well"
   ]
  },
  {
   "cell_type": "code",
   "execution_count": 13,
   "metadata": {},
   "outputs": [
    {
     "name": "stdout",
     "output_type": "stream",
     "text": [
      "(5, 6)\n",
      "5 6\n"
     ]
    }
   ],
   "source": [
    "# Tuples are a convenient way to return multiple values from functions:\n",
    "def sum_and_product(x, y): \n",
    "    return (x + y),(x * y)\n",
    "\n",
    "sp = sum_and_product(2, 3)\n",
    "s, p = sum_and_product(2, 3)\n",
    "print(sp)\n",
    "print(s,p)"
   ]
  },
  {
   "cell_type": "code",
   "execution_count": 14,
   "metadata": {},
   "outputs": [
    {
     "name": "stdout",
     "output_type": "stream",
     "text": [
      "2 1\n"
     ]
    }
   ],
   "source": [
    "# tuples for multiple assignment\n",
    "x, y = 1,2\n",
    "x, y = y, x\n",
    "print(x, y)"
   ]
  },
  {
   "cell_type": "code",
   "execution_count": 59,
   "metadata": {},
   "outputs": [
    {
     "name": "stdout",
     "output_type": "stream",
     "text": [
      "Array:\n",
      " [[ 1  2  3  4  5]\n",
      " [ 4  5  6  7  8]\n",
      " [ 7  8  9 10 11]]\n",
      "\n",
      "Series:\n",
      " Num1    1\n",
      "Num2    2\n",
      "Num3    3\n",
      "dtype: int64 \n",
      "\n",
      "DataFrame:\n",
      "       col_name\n",
      "Num1         1\n",
      "Num2         2\n",
      "Num3         3\n"
     ]
    }
   ],
   "source": [
    "### Array -> Must include same data type\n",
    "arr = np.array([[1, 2, 3, 4, 5], [4, 5, 6, 7, 8], [7, 8, 9, 10, 11]])\n",
    "print('Array:\\n',arr)\n",
    "\n",
    "### Series -> one-dimensional labeled array\n",
    "ser = pd.Series([1, 2, 3], index = [\"Num1\", \"Num2\", \"Num3\"])\n",
    "print('\\nSeries:\\n',ser,'\\n')\n",
    "\n",
    "### DataFrame -> Two-dimensional data structure\n",
    "fra = pd.DataFrame(ser, columns = ['col_name'])\n",
    "print('DataFrame:\\n',fra)"
   ]
  },
  {
   "cell_type": "markdown",
   "metadata": {},
   "source": [
    "# -------------------- List --------------------"
   ]
  },
  {
   "cell_type": "code",
   "execution_count": 18,
   "metadata": {},
   "outputs": [
    {
     "name": "stdout",
     "output_type": "stream",
     "text": [
      "List: ['apple', 'pear', 'banana']\n"
     ]
    }
   ],
   "source": [
    "# List -> '[]' -> Mutable -> can include different types\n",
    "lis = ['apple','pear','banana']\n",
    "print('List:',lis)"
   ]
  },
  {
   "cell_type": "code",
   "execution_count": 17,
   "metadata": {},
   "outputs": [
    {
     "name": "stdout",
     "output_type": "stream",
     "text": [
      "Select:  banana\n",
      "Update:  ['apple', 'banana', 'lemon']\n",
      "Add:     ['apple', 'orange', 'banana', 'lemon', 'mango']\n",
      "Length:  5\n"
     ]
    }
   ],
   "source": [
    "# Select subset\n",
    "print(\"Select: \",fruit[1]) # start from 0\n",
    "\n",
    "# Update list\n",
    "fruit[2] = 'lemon'\n",
    "print(\"Update: \",fruit)\n",
    "\n",
    "# Add elements\n",
    "# Method 1: append() -> Add to the end\n",
    "fruit.append('mango')\n",
    "# Method 2: insert(#,str) -> Add at the index #\n",
    "fruit.insert(1,'orange')\n",
    "print(\"Add:    \",fruit)\n",
    "\n",
    "# Count element\n",
    "print(\"Length: \", len(fruit))"
   ]
  },
  {
   "cell_type": "code",
   "execution_count": 95,
   "metadata": {},
   "outputs": [
    {
     "name": "stdout",
     "output_type": "stream",
     "text": [
      "['banana', 'mango', 'lemon'] \n",
      "\n",
      "['banana', 'mango'] lemon \n",
      "\n",
      "['mango']\n"
     ]
    }
   ],
   "source": [
    "### Delete Element\n",
    "fruit = ['apple', 'banana', 'mango', 'lemon']\n",
    "\n",
    "# Method 1 -> del\n",
    "del fruit[0]\n",
    "print(fruit,'\\n')\n",
    "\n",
    "# Method 2 -> .pop()\n",
    "# delete the last element but still want to use the data (save it to popped_fruit)\n",
    "popped_fruit = fruit.pop()\n",
    "# .pop() is default, we can use \"fruit.pop(2)\" as well\n",
    "print(fruit, popped_fruit,'\\n')\n",
    "    \n",
    "# Method 3 -> .remove()\n",
    "# If you know which element you are going to delete\n",
    "# It only delete the first element appear in the list\n",
    "fruit.remove('banana')\n",
    "print(fruit)"
   ]
  },
  {
   "cell_type": "code",
   "execution_count": 3,
   "metadata": {},
   "outputs": [
    {
     "name": "stdout",
     "output_type": "stream",
     "text": [
      "['apple', 'banana', 'lemon', 'mango']\n",
      "['mango', 'lemon', 'banana', 'apple']\n",
      "['apple', 'banana', 'lemon', 'mango']\n"
     ]
    }
   ],
   "source": [
    "# Sort Element 1:\n",
    "# sort()\n",
    "fruit = ['apple', 'banana', 'mango', 'lemon']\n",
    "fruit.sort() \n",
    "# reverse = True/False\n",
    "# key = abs if want to sort by absolute value\n",
    "print(fruit)\n",
    "\n",
    "# reverse() -> reverse the elements in the list\n",
    "fruit.reverse()\n",
    "print(fruit)\n",
    "\n",
    "# sorted() -> If you want to keep the original order in fruit\n",
    "fruit_v2 = sorted(fruit)\n",
    "print(fruit_v2)"
   ]
  },
  {
   "cell_type": "code",
   "execution_count": 2,
   "metadata": {},
   "outputs": [
    {
     "name": "stdout",
     "output_type": "stream",
     "text": [
      "I like eat apple.\n",
      "\n",
      "I like eat banana.\n",
      "\n",
      "I like eat mango.\n",
      "\n",
      "Which one do you like to eat?\n"
     ]
    }
   ],
   "source": [
    "### For Loop\n",
    "fruit = ['apple', 'banana', 'mango']\n",
    "\n",
    "for food in fruit:\n",
    "    print(\"I like eat \" + food + \".\\n\")\n",
    "print(\"Which one do you like to eat?\")"
   ]
  },
  {
   "cell_type": "code",
   "execution_count": null,
   "metadata": {},
   "outputs": [],
   "source": []
  },
  {
   "cell_type": "code",
   "execution_count": null,
   "metadata": {},
   "outputs": [],
   "source": []
  },
  {
   "cell_type": "code",
   "execution_count": 5,
   "metadata": {},
   "outputs": [
    {
     "name": "stdout",
     "output_type": "stream",
     "text": [
      "apple mango\n"
     ]
    }
   ],
   "source": [
    "# Unpack lists -> use for 'for loop'\n",
    "x,_,y = fruit # doesn't care about the second element\n",
    "print(x,y)"
   ]
  },
  {
   "cell_type": "code",
   "execution_count": 76,
   "metadata": {},
   "outputs": [
    {
     "name": "stdout",
     "output_type": "stream",
     "text": [
      "0\n",
      "1\n",
      "2\n",
      "\n",
      "1\n",
      "2\n",
      "[1, 2, 3, 4, 5]\n",
      "[1, 3, 5, 7, 9] \n",
      "\n",
      "[1, 4, 9, 16, 25]\n",
      "[1, 4, 9, 16, 25]\n"
     ]
    }
   ],
   "source": [
    "# range() -> create a serise of numbers\n",
    "for value in range(3): # 0,1,2\n",
    "    print(value)\n",
    "print()    \n",
    "for value in range(1,3): # stop at 2\n",
    "    print(value)\n",
    "\n",
    "    \n",
    "# create a list of numbers\n",
    "print(list(range(1,6)))\n",
    "print(list(range(1,10,2)),\"\\n\")\n",
    "\n",
    "# create a list of numbers by using for loop\n",
    "squares = []\n",
    "for value in range(1,6):\n",
    "    squares.append(value**2)\n",
    "print(squares)\n",
    "\n",
    "# A better way\n",
    "squares = [value**2 for value in range(1,6)]\n",
    "print(squares)"
   ]
  },
  {
   "cell_type": "code",
   "execution_count": 119,
   "metadata": {},
   "outputs": [
    {
     "name": "stdout",
     "output_type": "stream",
     "text": [
      "1 10 55\n"
     ]
    }
   ],
   "source": [
    "# Calculation\n",
    "digits = list(range(1,11))\n",
    "print(min(digits),max(digits),sum(digits))"
   ]
  },
  {
   "cell_type": "code",
   "execution_count": 131,
   "metadata": {},
   "outputs": [
    {
     "name": "stdout",
     "output_type": "stream",
     "text": [
      "['apple', 'banana']\n",
      "['apple', 'banana', 'mango']\n",
      "['banana', 'mango']\n"
     ]
    }
   ],
   "source": [
    "# Slice\n",
    "fruit = ['apple', 'banana', 'mango', 'lemon']\n",
    "print(fruit[0:2]) # start from 0, end at 2 (not include 2)\n",
    "print(fruit[:3])\n",
    "print(fruit[-3:-1]) # start from last third, end at last one (not include -1)"
   ]
  },
  {
   "cell_type": "code",
   "execution_count": 132,
   "metadata": {},
   "outputs": [],
   "source": [
    "# Copy the list\n",
    "fruit = ['apple', 'banana', 'mango', 'lemon']\n",
    "my_breakfast = fruit[:]\n",
    "# We can't use 'my_breakfast=fruit' directly since changing the fruit will affect the breakfast"
   ]
  },
  {
   "cell_type": "code",
   "execution_count": 77,
   "metadata": {},
   "outputs": [
    {
     "data": {
      "text/plain": [
       "False"
      ]
     },
     "execution_count": 77,
     "metadata": {},
     "output_type": "execute_result"
    }
   ],
   "source": [
    "# all and any function\n",
    "all([True, 1, { 3 }]) # TRUE\n",
    "all([True, 1, {}]) # FALSE --> {} is falsy\n",
    "any([True, 1, {}]) # TRUE\n",
    "all([]) # TRUE, no falsy elements in the list\n",
    "any([]) # FALSE, no truthy elements in the list"
   ]
  },
  {
   "cell_type": "code",
   "execution_count": 90,
   "metadata": {},
   "outputs": [
    {
     "name": "stdout",
     "output_type": "stream",
     "text": [
      "[5, '', 5, '', '', '', 5] \n",
      "\n",
      "[0, 2, 4]\n",
      "{0: 0, 1: 1, 2: 4, 3: 9, 4: 16}\n",
      "[0, 0, 0, 0, 0]\n",
      "[(0, 2), (0, 3), (0, 4), (1, 3), (1, 4), (2, 4)]\n"
     ]
    }
   ],
   "source": [
    "# list comprehensions -> transform a list into another list\n",
    "fellowship = ['frodo', 'samwise', 'merry', 'aragorn', 'legolas', 'boromir', 'gimli']\n",
    "print([len(value) if len(value)==5 else '' for value in fellowship],'\\n')\n",
    "\n",
    "print([x for x in range(5) if x%2==0])\n",
    "print({x:x*x for x in range(5)}) # turn lists into dictionaries\n",
    "print([0 for _ in range(5)]) # don’t need the value from the list\n",
    "print([(x, y) for x in range(5) for y in range(x + 2, 5)]) # multiple fors & later fors can use the results of earlier ones"
   ]
  },
  {
   "cell_type": "markdown",
   "metadata": {},
   "source": [
    "# -------------------- Dictionary --------------------"
   ]
  },
  {
   "cell_type": "code",
   "execution_count": 23,
   "metadata": {},
   "outputs": [
    {
     "name": "stdout",
     "output_type": "stream",
     "text": [
      "{'color': 'green', 'points': 5}\n",
      "green\n"
     ]
    }
   ],
   "source": [
    "# key:value -> keys must be immutable\n",
    "alien = {'color':'green', 'points':5}\n",
    "print(alien)\n",
    "print(alien['color'])"
   ]
  },
  {
   "cell_type": "code",
   "execution_count": 30,
   "metadata": {},
   "outputs": [
    {
     "name": "stdout",
     "output_type": "stream",
     "text": [
      "True\n",
      "False\n",
      "9\n"
     ]
    }
   ],
   "source": [
    "# print(alien['size']) # -> error -> key not exist in the dict\n",
    "\n",
    "# Check \n",
    "print('color' in alien)\n",
    "print('size' in alien)\n",
    "\n",
    "# Set a default value if the key not exist in the dict -> .get()\n",
    "print(alien.get('size', 9))"
   ]
  },
  {
   "cell_type": "code",
   "execution_count": 31,
   "metadata": {},
   "outputs": [
    {
     "name": "stdout",
     "output_type": "stream",
     "text": [
      "{'color': 'green', 'size': 10}\n",
      "{'color': 'yellow', 'size': 10}\n",
      "{'size': 10}\n"
     ]
    }
   ],
   "source": [
    "# Add a value\n",
    "alien = {}\n",
    "alien['size'] = 10\n",
    "print(alien)\n",
    "\n",
    "# Update a value\n",
    "alien['color'] = 'yellow'\n",
    "print(alien)\n",
    "\n",
    "# Delete a value\n",
    "del alien['color']\n",
    "print(alien)"
   ]
  },
  {
   "cell_type": "code",
   "execution_count": 20,
   "metadata": {},
   "outputs": [
    {
     "name": "stdout",
     "output_type": "stream",
     "text": [
      "jan likes Python\n",
      "sarah likes c\n",
      "edward likes SQL\n",
      "sam likes Python\n",
      "\n",
      "Edward\n",
      "Jan\n",
      "Sam\n",
      "Sarah\n",
      "\n",
      "c\n",
      "Python\n",
      "SQL\n"
     ]
    }
   ],
   "source": [
    "favorite_languages = {'jan':'Python','sarah':'c','edward':'SQL','sam':'Python'}\n",
    "\n",
    "# Review all the key-value tuples\n",
    "for name, language in favorite_languages.items():\n",
    "    print(name, \"likes\", language)\n",
    "print()\n",
    "    \n",
    "# Review all the sorted keys\n",
    "for name in sorted(favorite_languages.keys()):\n",
    "    print(name.title())\n",
    "print()\n",
    "\n",
    "# Review all the distinct values\n",
    "for language in set(favorite_languages.values()):\n",
    "    print(language)"
   ]
  },
  {
   "cell_type": "code",
   "execution_count": 29,
   "metadata": {},
   "outputs": [
    {
     "name": "stdout",
     "output_type": "stream",
     "text": [
      "[{'color': 'green', 'points': 5, 'speed': 'slow'}, {'color': 'yellow', 'points': 10, 'speed': 'medium'}] \n",
      "\n",
      "{'crust': 'thick', 'toppings': ['mushroom', 'extra cheese']} \n",
      "\n",
      "{'aeason': {'first': 'albert', 'last': 'eason', 'location': 'new york'}, 'ljay': {'first': 'lucy', 'last': 'jay', 'location': 'paris'}} \n",
      "\n",
      "lucy\n"
     ]
    }
   ],
   "source": [
    "# Nested -> dict in list\n",
    "# 1. Dictionary in list\n",
    "aliens = [{'color':'green', 'points':5, 'speed':'slow'},{'color':'yellow', 'points':10, 'speed':'medium'}]\n",
    "print(aliens,'\\n')\n",
    "\n",
    "# 2. List in Dictionary\n",
    "pizza = {'crust':'thick','toppings':['mushroom','extra cheese']}\n",
    "print(pizza,'\\n')\n",
    "\n",
    "# 3. Dictionary in Dictionary\n",
    "users = {'aeason':{'first':'albert','last':'eason','location':'new york'},\n",
    "         'ljay':{'first':'lucy','last':'jay','location':'paris'}}\n",
    "print(users,'\\n')\n",
    "print(users['ljay']['first'])\n"
   ]
  },
  {
   "cell_type": "code",
   "execution_count": 57,
   "metadata": {},
   "outputs": [
    {
     "name": "stdout",
     "output_type": "stream",
     "text": [
      "{'a': 2, 'b': 3, 'c': 1}\n",
      "{'a': 2, 'b': 3, 'c': 1}\n",
      "{'a': 2, 'b': 3, 'c': 1}\n",
      "defaultdict(<class 'int'>, {'a': 2, 'b': 3, 'c': 1})\n",
      "Counter({'b': 3, 'a': 2, 'c': 1})\n",
      "b 3\n",
      "a 2\n"
     ]
    }
   ],
   "source": [
    "document = [\"a\",\"a\",\"b\",\"b\",\"b\",\"c\"]\n",
    "\n",
    "# Four ways to create dict\n",
    "# FIRST\n",
    "word_counts = {}\n",
    "for word in document:\n",
    "    if word in word_counts: \n",
    "        word_counts[word] += 1\n",
    "    else:\n",
    "        word_counts[word] = 1\n",
    "print(word_counts)\n",
    "\n",
    "# SECOND\n",
    "word_counts = {}\n",
    "for word in document:\n",
    "    try:\n",
    "        word_counts[word] += 1\n",
    "    except KeyError: \n",
    "        word_counts[word] = 1\n",
    "print(word_counts)\n",
    "\n",
    "# THIRD\n",
    "word_counts = {}\n",
    "for word in document:\n",
    "    previous_count = word_counts.get(word, 0) \n",
    "    word_counts[word] = previous_count + 1\n",
    "print(word_counts)\n",
    "\n",
    "# FOURTH\n",
    "from collections import defaultdict\n",
    "word_counts = defaultdict(int) # int() produces 0\n",
    "for word in document:\n",
    "    word_counts[word] += 1\n",
    "print(word_counts)\n",
    "\n",
    "# FIFTH\n",
    "from collections import Counter\n",
    "word_counts = Counter(document)\n",
    "print(word_counts)\n",
    "for word, count in word_counts.most_common(2): # print the 2 most common words and their counts\n",
    "    print (word, count)"
   ]
  },
  {
   "cell_type": "code",
   "execution_count": 46,
   "metadata": {},
   "outputs": [
    {
     "name": "stdout",
     "output_type": "stream",
     "text": [
      "defaultdict(<class 'list'>, {2: [1]}) \n",
      " defaultdict(<class 'dict'>, {'Joel': {'City': 'Seattle'}}) \n",
      " defaultdict(<function <lambda> at 0x7fc2125a9170>, {2: [0, 1]})\n"
     ]
    }
   ],
   "source": [
    "# Other method for defaultdict\n",
    "# So that we don’t need to check every time if the key exists yet.\n",
    "\n",
    "dd_list = defaultdict(list) # list() produces an empty list \n",
    "dd_list[2].append(1)\n",
    "\n",
    "dd_dict = defaultdict(dict) # dict() produces an empty dict\n",
    "dd_dict[\"Joel\"][\"City\"] = \"Seattle\"\n",
    "\n",
    "dd_pair = defaultdict(lambda: [0, 0]) \n",
    "dd_pair[2][1] = 1\n",
    "print(dd_list,'\\n',dd_dict,'\\n',dd_pair)"
   ]
  },
  {
   "cell_type": "markdown",
   "metadata": {},
   "source": [
    "# -------------------- Set --------------------"
   ]
  },
  {
   "cell_type": "code",
   "execution_count": 70,
   "metadata": {},
   "outputs": [
    {
     "name": "stdout",
     "output_type": "stream",
     "text": [
      "{1, 2, 3, 4}\n",
      "{1, 2, 3, 4, 5} \n",
      "len: 5\n"
     ]
    }
   ],
   "source": [
    "### Set -> Unordered unique elements\n",
    "num = [2,3,4,2,3,1]\n",
    "set_value = set(num)\n",
    "print(set_value)\n",
    "\n",
    "set_value.add(5)\n",
    "print(set_value, \"\\nlen:\", len(set_value))\n",
    "\n",
    "# Two main reasons to use set:\n",
    "# 1. Set can be faster when use \"in\" function --> 3 in num --> True\n",
    "# 2. Find the distinct items in a collection"
   ]
  },
  {
   "cell_type": "markdown",
   "metadata": {},
   "source": [
    "# -------------------- NumPy --------------------"
   ]
  },
  {
   "cell_type": "markdown",
   "metadata": {},
   "source": [
    "## 1. Creating arrays"
   ]
  },
  {
   "cell_type": "code",
   "execution_count": 7,
   "metadata": {},
   "outputs": [
    {
     "name": "stdout",
     "output_type": "stream",
     "text": [
      "[1 2 3] [1. 2. 3.] \n",
      "\n",
      "[0. 0. 0. 0. 0. 0. 0. 0. 0. 0.] OR [1. 1. 1. 1. 1. 1. 1. 1. 1. 1.]\n",
      "[ 0  2  4  6  8 10 12 14 16 18]\n",
      "[0.   0.25 0.5  0.75 1.  ] \n",
      "\n",
      "[[111 111 111 111]\n",
      " [111 111 111 111]\n",
      " [111 111 111 111]] \n",
      "\n",
      "[[1. 0. 0.]\n",
      " [0. 1. 0.]\n",
      " [0. 0. 1.]]\n"
     ]
    }
   ],
   "source": [
    "arr = np.array([1,2,3])\n",
    "arr2 = np.array([1,2,3],dtype = 'float32')\n",
    "print(arr,arr2,'\\n')\n",
    "\n",
    "print(np.zeros(10),'OR',np.ones(10))\n",
    "print(np.arange(0,20,2)) # 0-20, step by 2\n",
    "print(np.linspace(0,1,5),'\\n') # five values evenly dividend between 0-1\n",
    "\n",
    "print(np.full((3,4),111),'\\n')\n",
    "      \n",
    "print(np.eye(3)) # identity matrix"
   ]
  },
  {
   "cell_type": "markdown",
   "metadata": {},
   "source": [
    "## 2. The basics of NumPy Arrays"
   ]
  },
  {
   "cell_type": "code",
   "execution_count": 8,
   "metadata": {},
   "outputs": [
    {
     "name": "stdout",
     "output_type": "stream",
     "text": [
      "[[0.5488135  0.71518937 0.60276338]\n",
      " [0.54488318 0.4236548  0.64589411]] \n",
      "\n",
      "[[ 0.95008842 -0.15135721]\n",
      " [-0.10321885  0.4105985 ]] \n",
      "\n",
      "[[6 7 7 8 1]\n",
      " [5 9 8 9 4]\n",
      " [3 0 3 5 0]\n",
      " [2 3 8 1 3]] \n",
      "\n",
      "Dimensions: 2\n",
      "Shape: (4, 5)\n",
      "Size: 20\n",
      "Type: int64\n"
     ]
    }
   ],
   "source": [
    "np.random.seed(0)\n",
    "\n",
    "print(np.random.random((2,3)),\"\\n\") # (0,1)\n",
    "# np.random.rand -> [0,1)\n",
    "\n",
    "print(np.random.randn(2,2),\"\\n\") # standard normal distribution with mean = 0, sd = 1\n",
    "# same as np.random.normal(0,1,(2,2))\n",
    "\n",
    "x = np.random.randint(10, size=(4,5)) # [1,10)\n",
    "print(x,'\\n')\n",
    "\n",
    "print('Dimensions:', x.ndim)\n",
    "print('Shape:', x.shape)\n",
    "print('Size:', x.size)\n",
    "print('Type:', x.dtype)"
   ]
  },
  {
   "cell_type": "code",
   "execution_count": 17,
   "metadata": {},
   "outputs": [
    {
     "name": "stdout",
     "output_type": "stream",
     "text": [
      "[[6 7 7 8 1]\n",
      " [5 9 8 9 4]\n",
      " [3 0 3 5 0]\n",
      " [2 3 8 1 3]] \n",
      "\n",
      "0 \n",
      "\n",
      "[[6 7 1]\n",
      " [5 8 4]] \n",
      "\n",
      "[1 8 7 7 6] \n",
      "\n",
      "[100   7   7   8   1] \n",
      "\n"
     ]
    }
   ],
   "source": [
    "# Array Indexing\n",
    "print(x,\"\\n\")\n",
    "print(x[2,-4],\"\\n\") # start from index 0 \n",
    "print(x[:2,::2],'\\n') # x[start:stop:step] -> stop_index = stop-1\n",
    "print(x[0,::-1],'\\n') # reversed\n",
    "\n",
    "# Creating a copy of arrays\n",
    "x_sub = x[0,:].copy()\n",
    "x_sub[0] = 100\n",
    "print(x_sub,'\\n') # Update won't effect the original array\n",
    "\n",
    "# Reshaping of Array\n",
    "print(x.reshape(2,10))\n"
   ]
  },
  {
   "cell_type": "code",
   "execution_count": 23,
   "metadata": {},
   "outputs": [
    {
     "name": "stdout",
     "output_type": "stream",
     "text": [
      "[[0 1 2]\n",
      " [3 4 5]\n",
      " [6 7 8]] \n",
      "\n",
      "[[0 1 2]\n",
      " [3 4 5]] --- [[6 7 8]] \n",
      "\n",
      "[[6 7 8 6 7 8]]\n"
     ]
    }
   ],
   "source": [
    "# Array Splitting -> vsplit() / hsplit()\n",
    "y = np.arange(9).reshape(3,3) # reshape the shape to (3,3)\n",
    "upper, lower = np.vsplit(y,[2])\n",
    "print(y,\"\\n\")\n",
    "print(upper,\"---\", lower,'\\n')\n",
    "\n",
    "# Concatenation of Arrays -> vstack() / hstack()\n",
    "z = np.hstack([lower,lower])\n",
    "print(z)"
   ]
  },
  {
   "cell_type": "markdown",
   "metadata": {},
   "source": [
    "## 3. NumPy Arrays: Universal Functions"
   ]
  },
  {
   "cell_type": "code",
   "execution_count": 28,
   "metadata": {},
   "outputs": [
    {
     "name": "stdout",
     "output_type": "stream",
     "text": [
      "x    = [1 2 3 4 5]\n",
      "x+5  = [ 6  7  8  9 10]\n",
      "\n",
      " y = [-2 -1  0  1  2] \n",
      "|y| = [2 1 0 1 2] \n",
      "\n",
      "\n",
      "e^x      = [  2.71828183   7.3890561   20.08553692  54.59815003 148.4131591 ]\n",
      "3^x      = [  3   9  27  81 243]\n",
      "ln(x)    = [0.         0.69314718 1.09861229 1.38629436 1.60943791] \n",
      "\n",
      "Each aggregated result: [ 1  3  6 10 15]\n"
     ]
    }
   ],
   "source": [
    "# Arithmetic operators\n",
    "x = np.arange(5)+1\n",
    "print(\"x    =\",x)\n",
    "print(\"x+5  =\",x+5) # np.add(x,5) / np.subtract(x,5) / np.multiply(x,5) / np.divide(x,5)\n",
    "\n",
    "# Absolute value\n",
    "y = np.array([-2,-1,0,1,2])\n",
    "print(\"\\n y =\",y,\"\\n|y| =\",np.abs(y),'\\n')\n",
    "\n",
    "# Exponents and logarithms\n",
    "print(\"\\ne^x      =\",np.exp(x))\n",
    "print(\"3^x      =\",np.power(3,x))\n",
    "print(\"ln(x)    =\",np.log(x),\"\\n\")\n",
    "\n",
    "# Aggregates\n",
    "print(\"Each aggregated result:\",np.add.accumulate(x))"
   ]
  },
  {
   "cell_type": "markdown",
   "metadata": {},
   "source": [
    "## 4. Aggregations: Min, Max, and Everything in Between"
   ]
  },
  {
   "cell_type": "code",
   "execution_count": 122,
   "metadata": {},
   "outputs": [
    {
     "name": "stdout",
     "output_type": "stream",
     "text": [
      "2.73 µs ± 232 ns per loop (mean ± std. dev. of 7 runs, 100000 loops each)\n",
      "4.84 µs ± 1.08 µs per loop (mean ± std. dev. of 7 runs, 100000 loops each)\n",
      "2.03 µs ± 50 ns per loop (mean ± std. dev. of 7 runs, 100000 loops each)\n"
     ]
    }
   ],
   "source": [
    "x = np.arange(10)\n",
    "x\n",
    "%timeit sum(x)\n",
    "%timeit x.sum()\n",
    "%timeit np.sum(x)\n",
    "# numpy is much faster"
   ]
  },
  {
   "cell_type": "code",
   "execution_count": 36,
   "metadata": {},
   "outputs": [
    {
     "name": "stdout",
     "output_type": "stream",
     "text": [
      "[[5 3 1]\n",
      " [1 5 1]] \n",
      "\n",
      "Sum:             16\n",
      "Product:         75\n",
      "Mean:            2.6666666666666665\n",
      "sd:              1.7950549357115015\n",
      "Median:          2.0\n",
      "Max:             5\n",
      "Index of max:    0\n",
      "20th percentile: 1.0\n",
      "Distinct values: [1 3 5]\n",
      "\n",
      "Sum of each column: [6 8 2]\n",
      "Sum of each row: [9 7]\n"
     ]
    }
   ],
   "source": [
    "# Aggregation functions\n",
    "x = np.random.randint(1,6,(2,3))\n",
    "\n",
    "print(x,'\\n') \n",
    "print(\"Sum:            \",np.sum(x)) \n",
    "print(\"Product:        \",np.prod(x))\n",
    "print(\"Mean:           \",np.mean(x))\n",
    "print(\"sd:             \",np.std(x)) # np.var(x)\n",
    "print(\"Median:         \",np.median(x))\n",
    "print(\"Max:            \",np.max(x)) # np.min(x)\n",
    "print(\"Index of max:   \",np.argmax(x)) # np.argmin(x)\n",
    "print(\"20th percentile:\",np.percentile(x,20))\n",
    "print(\"Distinct values:\",np.unique(x))\n",
    "\n",
    "# Multidimensinoal aggregates\n",
    "print(\"\\nSum of each column:\", x.sum(axis=0))\n",
    "print(\"Sum of each row:\", x.sum(axis=1))"
   ]
  },
  {
   "cell_type": "markdown",
   "metadata": {},
   "source": [
    "## 5. Computation on Arrays: Boardcasting"
   ]
  },
  {
   "cell_type": "code",
   "execution_count": 32,
   "metadata": {},
   "outputs": [
    {
     "name": "stdout",
     "output_type": "stream",
     "text": [
      "[[1. 2. 3.]\n",
      " [1. 2. 3.]] \n",
      "\n",
      "[[0 1 2]\n",
      " [1 2 3]\n",
      " [2 3 4]]\n"
     ]
    },
    {
     "ename": "ValueError",
     "evalue": "operands could not be broadcast together with shapes (3,) (3,2) ",
     "output_type": "error",
     "traceback": [
      "\u001b[0;31m---------------------------------------------------------------------------\u001b[0m",
      "\u001b[0;31mValueError\u001b[0m                                Traceback (most recent call last)",
      "\u001b[0;32m<ipython-input-32-1edd014ecbcf>\u001b[0m in \u001b[0;36m<module>\u001b[0;34m\u001b[0m\n\u001b[1;32m     31\u001b[0m \u001b[0;31m# --> c.shape = (3,2) => (3,2) <- only dimension with 1 can reshape\u001b[0m\u001b[0;34m\u001b[0m\u001b[0;34m\u001b[0m\u001b[0;34m\u001b[0m\u001b[0m\n\u001b[1;32m     32\u001b[0m \u001b[0;31m# Step 3: Now final shape is not match -> error\u001b[0m\u001b[0;34m\u001b[0m\u001b[0;34m\u001b[0m\u001b[0;34m\u001b[0m\u001b[0m\n\u001b[0;32m---> 33\u001b[0;31m \u001b[0mprint\u001b[0m\u001b[0;34m(\u001b[0m\u001b[0ma\u001b[0m\u001b[0;34m+\u001b[0m\u001b[0mc\u001b[0m\u001b[0;34m)\u001b[0m\u001b[0;34m\u001b[0m\u001b[0;34m\u001b[0m\u001b[0m\n\u001b[0m",
      "\u001b[0;31mValueError\u001b[0m: operands could not be broadcast together with shapes (3,) (3,2) "
     ]
    }
   ],
   "source": [
    "# Example 1:\n",
    "M = np.ones((2,3))\n",
    "a = np.arange(3)\n",
    "b = np.arange(3).reshape((3,1))\n",
    "c = np.ones((3,2))\n",
    "\n",
    "# Example 1:\n",
    "# -> M.shape = (2,3)\n",
    "# -> a.shape = (3)\n",
    "# Step 1: a has fewer dimensions, so we pad it on the left with ones -> a.shape = (1,3)\n",
    "# Step 2: First dimension not match -> stretch the a's first dimension from 1 to 2 -> a.shape = (2,3)\n",
    "# Step 3: Now final shape will be (2,3)\n",
    "print(M+a,\"\\n\")\n",
    "\n",
    "# Example 2:\n",
    "# -> a.shape = (3)\n",
    "# -> b.shape = (3,1)\n",
    "# Step 1 (same as above) -> a.shape = (1,3)\n",
    "# Step 2: Both first and second dimensions need to match \n",
    "# --> a.shape = (1,3) => (3,3)\n",
    "# --> b.shape = (3,1) => (3,3)\n",
    "# Step 3: Now final shape will be (3,3)\n",
    "print(a+b)\n",
    "\n",
    "# Example 3:\n",
    "# -> a.shape = (3)\n",
    "# -> c.shape = (3,2)\n",
    "# Step 1 (same as above) -> a.shape = (1,3)\n",
    "# Step 2: Both first and second dimensions need to match \n",
    "# --> a.shape = (1,3) => (3,3)\n",
    "# --> c.shape = (3,2) => (3,2) <- only dimension with 1 can reshape\n",
    "# Step 3: Now final shape is not match -> error\n",
    "print(a+c)"
   ]
  },
  {
   "cell_type": "code",
   "execution_count": 35,
   "metadata": {},
   "outputs": [
    {
     "name": "stdout",
     "output_type": "stream",
     "text": [
      "[[1. 1.]\n",
      " [2. 2.]\n",
      " [3. 3.]] \n",
      "\n",
      "----------\n",
      " [0 1 2]\n",
      "Change to a column vector: \n",
      " [[0]\n",
      " [1]\n",
      " [2]] (3, 1)\n",
      "Change to a row vector: \n",
      " [[0 1 2]] (1, 3)\n"
     ]
    }
   ],
   "source": [
    "# Solution for example 3:\n",
    "a2 = a[:,np.newaxis] # a2.shape = (3,1)\n",
    "print(a2+c, \"\\n\")\n",
    "\n",
    "print('----------\\n',a)\n",
    "print(\"Change to a column vector: \\n\", a[:,np.newaxis],a[:,np.newaxis].shape)\n",
    "print(\"Change to a row vector: \\n\", a[np.newaxis,:],a[np.newaxis,:].shape)"
   ]
  },
  {
   "cell_type": "markdown",
   "metadata": {},
   "source": [
    "## 6. Comparisons, Masks, and Boolean Logic"
   ]
  },
  {
   "cell_type": "code",
   "execution_count": 159,
   "metadata": {},
   "outputs": [
    {
     "name": "stdout",
     "output_type": "stream",
     "text": [
      "[[0 0 3 1]\n",
      " [9 9 6 6]] \n",
      "\n",
      "Less or equal than 3:\n",
      " [[False False False False]\n",
      " [ True  True  True  True]]\n",
      "Or:\n",
      " [['small' 'small' 'small' 'small']\n",
      " ['big' 'big' 'big' 'big']]\n",
      "\n",
      "Count(x<3): 3\n",
      "Count(x<5) per row: [3 0]\n",
      "Any value greater than 8? -> True \n",
      "\n",
      "value not > 3: 4 \n",
      "\n",
      "value<3 or value>8: 7\n",
      "Select the values smaller than 5: [0 0 3 1]\n"
     ]
    }
   ],
   "source": [
    "x = np.random.randint(0,10,(2,4))\n",
    "print(x,'\\n')\n",
    "print(\"Less or equal than 3:\\n\", x >= 6)\n",
    "# x==6 -> equal to 6; x!=6 -> not equal to 6\n",
    "print(\"Or:\\n\", np.where(x>5, 'big', 'small')) # CAN USE FOR replacing the right value from multiple columns in dataframe\n",
    "\n",
    "# Counting entries\n",
    "print(\"\\nCount(x<3):\",np.sum(x<3))\n",
    "print(\"Count(x<5) per row:\",np.sum(x<3, axis=1)) # axis=0 -> per column\n",
    "print(\"Any value greater than 8? ->\", np.any(x>8), \"\\n\") # np.all(x>8) -> all value greater than 8\n",
    "\n",
    "\n",
    "# Boolean operators\n",
    "print(\"value not > 3:\", np.sum(~ (x>3)),\"\\n\") # xor -> \"^\"\n",
    "print(\"value<3 or value>8:\", np.sum((x<3)|(x>5)) ) # \"&\" -> and\n",
    "# np.logical_or(x>9,x<3)\n",
    "\n",
    "# Boolean arrays as masks\n",
    "print(\"Select the values smaller than 5:\",x[x<5])"
   ]
  },
  {
   "cell_type": "markdown",
   "metadata": {},
   "source": [
    "## 7. Fancy Indexing"
   ]
  },
  {
   "cell_type": "code",
   "execution_count": 37,
   "metadata": {},
   "outputs": [
    {
     "name": "stdout",
     "output_type": "stream",
     "text": [
      "[18 80  5 43 59 32  2 66 42 58 36 12] \n",
      "\n",
      "[43 66 59]\n",
      "[[43 66]\n",
      " [43 32]]\n"
     ]
    }
   ],
   "source": [
    "x = np.random.randint(1,100,size=12)\n",
    "print(x,'\\n')\n",
    "\n",
    "ind = [3,7,4]\n",
    "print(x[ind])\n",
    "ind2 = np.array([[3,7],[3,5]]) \n",
    "print(x[ind2])"
   ]
  },
  {
   "cell_type": "code",
   "execution_count": 38,
   "metadata": {},
   "outputs": [
    {
     "name": "stdout",
     "output_type": "stream",
     "text": [
      "[[ 0  1  2  3]\n",
      " [ 4  5  6  7]\n",
      " [ 8  9 10 11]]\n",
      "[ 2  5 11] \n",
      "\n",
      "1: [[ 2  5 11]]\n",
      "2: \n",
      " [[0]\n",
      " [1]\n",
      " [2]]\n",
      "3: \n",
      " [[ 2  1  3]\n",
      " [ 6  5  7]\n",
      " [10  9 11]] \n",
      "\n",
      "[ True False  True False]\n",
      "[[ 4  6]\n",
      " [ 8 10]]\n",
      "[[ 4  5  6  7]\n",
      " [ 8  9 10 11]]\n"
     ]
    }
   ],
   "source": [
    "# Multiple dimensions\n",
    "X = np.arange(12).reshape((3,4))\n",
    "print(X)\n",
    "\n",
    "# Choose the point (0,2), (1,1), (2,3)\n",
    "row = np.array([0,1,2])\n",
    "col = np.array([2,1,3])\n",
    "print(X[row,col],\"\\n\")\n",
    "\n",
    "# Combine the col(2,1,3) for each row (0,1,2)\n",
    "print('1:', X[[row],col])\n",
    "print('2:', '\\n',row[:,np.newaxis])\n",
    "print('3:', '\\n',X[row[:,np.newaxis],col],\"\\n\")\n",
    "\n",
    "# Combined Indexing\n",
    "mask = np.array([1,0,1,0], dtype=bool) \n",
    "print(mask)\n",
    "print(X[1:,mask])"
   ]
  },
  {
   "cell_type": "markdown",
   "metadata": {},
   "source": [
    "## 8. Sorting Arrays"
   ]
  },
  {
   "cell_type": "code",
   "execution_count": 40,
   "metadata": {},
   "outputs": [
    {
     "data": {
      "text/plain": [
       "array([1, 2, 3, 4, 5])"
      ]
     },
     "execution_count": 40,
     "metadata": {},
     "output_type": "execute_result"
    }
   ],
   "source": [
    "np.sort(x)"
   ]
  },
  {
   "cell_type": "code",
   "execution_count": 39,
   "metadata": {},
   "outputs": [
    {
     "data": {
      "text/plain": [
       "array([1, 2, 3, 4, 5])"
      ]
     },
     "execution_count": 39,
     "metadata": {},
     "output_type": "execute_result"
    }
   ],
   "source": [
    "def selection_sort(x):\n",
    "    for i in range(len(x)):\n",
    "        swap = i+np.argmin(x[i:])\n",
    "        (x[i],x[swap]) = (x[swap],x[i])\n",
    "    return x\n",
    "x = np.array([3,2,1,4,5])\n",
    "selection_sort(x)"
   ]
  },
  {
   "cell_type": "markdown",
   "metadata": {},
   "source": [
    "# -------------------- Importing Data in Python --------------------"
   ]
  },
  {
   "cell_type": "markdown",
   "metadata": {},
   "source": [
    "## 1. Pandas"
   ]
  },
  {
   "cell_type": "code",
   "execution_count": 34,
   "metadata": {},
   "outputs": [
    {
     "name": "stdout",
     "output_type": "stream",
     "text": [
      "   Ozone  Solar.R  Wind  Temp  Month  Day\n",
      "0   41.0    190.0   7.4    67      5    1\n",
      "1   36.0    118.0   8.0    72      5    2\n",
      "2   12.0    149.0  12.6    74      5    3\n",
      "3   18.0    313.0  11.5    62      5    4\n",
      "4    NaN      NaN  14.3    56      5    5\n"
     ]
    }
   ],
   "source": [
    "import pandas as pd\n",
    "# Import data\n",
    "air = pd.read_csv('airquality.csv')\n",
    "\n",
    "print(air.head())\n",
    "# index_col = 0 -> select first column as index name\n",
    "# names=['AAA','BBB','CCC'] -> rename the columns\n",
    "# delimiter = ' ' -> separated by ' ' -> We can use delimiter=\"\\t\" to read the txt file\n",
    "# header = 3 -> the column name will start at row 3 (1st row = 0)\n",
    "# comment = \"#\" -> ignore all the sentences start with \"#\"\n",
    "# na_values = [\"8\"] <- define \"8\" as NA\n",
    "\n",
    "\n",
    "# Save the data\n",
    "# tips.to_csv('tips.csv',index=False)"
   ]
  },
  {
   "cell_type": "markdown",
   "metadata": {},
   "source": [
    "## 2. Excel / SQL / HTML"
   ]
  },
  {
   "cell_type": "code",
   "execution_count": 185,
   "metadata": {},
   "outputs": [
    {
     "name": "stdout",
     "output_type": "stream",
     "text": [
      "  War(country)      2004\n",
      "0  Afghanistan  9.451028\n",
      "1      Albania  0.130354\n",
      "2      Algeria  3.407277\n",
      "3      Andorra  0.000000\n",
      "4       Angola  2.597931 \n",
      "\n",
      "   LastName                Title\n",
      "0     Adams      General Manager\n",
      "1   Edwards        Sales Manager\n",
      "2   Peacock  Sales Support Agent\n",
      "3      Park  Sales Support Agent\n",
      "4   Johnson  Sales Support Agent\n",
      "5  Mitchell           IT Manager\n",
      "6      King             IT Staff\n",
      "7  Callahan             IT Staff \n",
      "\n"
     ]
    }
   ],
   "source": [
    "# Load data from other resources\n",
    "# Excel\n",
    "battle = pd.ExcelFile('battledeath.xlsx') \n",
    "print(battle.parse('2004').head(),'\\n') # Select the sheet '2004'\n",
    "\n",
    "# SQL\n",
    "from sqlalchemy import create_engine\n",
    "engine = create_engine('sqlite:///Chinook.sqlite')\n",
    "sql = pd.read_sql_query('select LastName, Title from Employee', engine)\n",
    "print(sql,'\\n')"
   ]
  },
  {
   "cell_type": "code",
   "execution_count": 11,
   "metadata": {},
   "outputs": [
    {
     "data": {
      "text/plain": [
       "<sqlite3.Cursor at 0x7fa38ddff880>"
      ]
     },
     "execution_count": 11,
     "metadata": {},
     "output_type": "execute_result"
    }
   ],
   "source": [
    "# Open csv file in SQLite and use SQL function\n",
    "\n",
    "import pandas as pd\n",
    "import sqlite3\n",
    "from sqlite3 import Error\n",
    "\n",
    "def create_connection(db_file):\n",
    "    \"\"\" create a database connection to a SQLite database \"\"\"\n",
    "    conn = None\n",
    "    try:\n",
    "        conn = sqlite3.connect(db_file)\n",
    "        print(sqlite3.version)\n",
    "    except Error as e:\n",
    "        print(e)\n",
    "    finally:\n",
    "        if conn:\n",
    "            conn.close()\n",
    "           \n",
    "def create_table(conn, create_table_sql):\n",
    "    \"\"\" create a table from the create_table_sql statement \"\"\"\n",
    "    try:\n",
    "        c = conn.cursor() # Connection object\n",
    "        c.execute(create_table_sql) # CREATE TABLE statement\n",
    "    except Error as e:\n",
    "        print(e)\n",
    "       \n",
    "def insert_values(conn, insert_value_sql):\n",
    "    try:\n",
    "        c = conn.cursor()\n",
    "        c.execute(insert_value_sql)\n",
    "    except Error as e:\n",
    "        print(e)\n",
    "\n",
    "# We can use either REAL / NUMERIC (know the decimal)\n",
    "sql_create_Title_table = \"\"\" CREATE TABLE IF NOT EXISTS TIPS (\n",
    "                                        total_bill REAL, \n",
    "                                        tip NUMERIC,\n",
    "                                        sex TEXT,\n",
    "                                        smoker TEXT,\n",
    "                                        day TEXT,\n",
    "                                        time TEXT,\n",
    "                                        size INTEGER\n",
    "                                    ); \"\"\"\n",
    "\n",
    "conn = sqlite3.connect(r\"tip_sqlite.db\") # Create a sql file\n",
    "\n",
    "c = conn.cursor()\n",
    "c.execute(sql_create_Title_table)"
   ]
  },
  {
   "cell_type": "code",
   "execution_count": 13,
   "metadata": {},
   "outputs": [
    {
     "data": {
      "text/html": [
       "<div>\n",
       "<style scoped>\n",
       "    .dataframe tbody tr th:only-of-type {\n",
       "        vertical-align: middle;\n",
       "    }\n",
       "\n",
       "    .dataframe tbody tr th {\n",
       "        vertical-align: top;\n",
       "    }\n",
       "\n",
       "    .dataframe thead th {\n",
       "        text-align: right;\n",
       "    }\n",
       "</style>\n",
       "<table border=\"1\" class=\"dataframe\">\n",
       "  <thead>\n",
       "    <tr style=\"text-align: right;\">\n",
       "      <th></th>\n",
       "      <th>total_bill</th>\n",
       "      <th>tip</th>\n",
       "      <th>sex</th>\n",
       "      <th>smoker</th>\n",
       "      <th>day</th>\n",
       "      <th>time</th>\n",
       "      <th>size</th>\n",
       "    </tr>\n",
       "  </thead>\n",
       "  <tbody>\n",
       "    <tr>\n",
       "      <td>0</td>\n",
       "      <td>12.60</td>\n",
       "      <td>1.00</td>\n",
       "      <td>Male</td>\n",
       "      <td>Yes</td>\n",
       "      <td>Sat</td>\n",
       "      <td>Dinner</td>\n",
       "      <td>2</td>\n",
       "    </tr>\n",
       "    <tr>\n",
       "      <td>1</td>\n",
       "      <td>12.60</td>\n",
       "      <td>1.00</td>\n",
       "      <td>Male</td>\n",
       "      <td>Yes</td>\n",
       "      <td>Sat</td>\n",
       "      <td>Dinner</td>\n",
       "      <td>2</td>\n",
       "    </tr>\n",
       "    <tr>\n",
       "      <td>2</td>\n",
       "      <td>32.83</td>\n",
       "      <td>1.17</td>\n",
       "      <td>Male</td>\n",
       "      <td>Yes</td>\n",
       "      <td>Sat</td>\n",
       "      <td>Dinner</td>\n",
       "      <td>2</td>\n",
       "    </tr>\n",
       "    <tr>\n",
       "      <td>3</td>\n",
       "      <td>32.83</td>\n",
       "      <td>1.17</td>\n",
       "      <td>Male</td>\n",
       "      <td>Yes</td>\n",
       "      <td>Sat</td>\n",
       "      <td>Dinner</td>\n",
       "      <td>2</td>\n",
       "    </tr>\n",
       "    <tr>\n",
       "      <td>4</td>\n",
       "      <td>10.51</td>\n",
       "      <td>1.25</td>\n",
       "      <td>Male</td>\n",
       "      <td>No</td>\n",
       "      <td>Sat</td>\n",
       "      <td>Dinner</td>\n",
       "      <td>2</td>\n",
       "    </tr>\n",
       "  </tbody>\n",
       "</table>\n",
       "</div>"
      ],
      "text/plain": [
       "   total_bill   tip   sex smoker  day    time  size\n",
       "0       12.60  1.00  Male    Yes  Sat  Dinner     2\n",
       "1       12.60  1.00  Male    Yes  Sat  Dinner     2\n",
       "2       32.83  1.17  Male    Yes  Sat  Dinner     2\n",
       "3       32.83  1.17  Male    Yes  Sat  Dinner     2\n",
       "4       10.51  1.25  Male     No  Sat  Dinner     2"
      ]
     },
     "execution_count": 13,
     "metadata": {},
     "output_type": "execute_result"
    }
   ],
   "source": [
    "tip = pd.read_csv(\"tips.csv\", header=0)\n",
    "tip.to_sql('TIPS',conn, if_exists='append',index= False )\n",
    "pd.read_sql(\"SELECT * FROM TIPS WHERE sex = 'Male' ORDER BY tip LIMIT 5\",conn)"
   ]
  },
  {
   "cell_type": "code",
   "execution_count": 61,
   "metadata": {},
   "outputs": [],
   "source": [
    "conn.close()"
   ]
  },
  {
   "cell_type": "code",
   "execution_count": 14,
   "metadata": {},
   "outputs": [
    {
     "name": "stdout",
     "output_type": "stream",
     "text": [
      "Din Tai Fung - Order Food Online - 3391 Photos & 1563 Reviews - Taiwanese - Century City - Los Angeles, CA - Phone Number - Menu - Yelp \n",
      "\n",
      "            {\"@context\": \"http://schema.org\", \"itemListElement\": [{\"position\": 1, \"@type\": \"ListItem\", \"item\": {\"@id\": \"/c/la/restaurants\", \"name\": \"Restaurants\"}}, {\"position\": 2, \"@type\": \"ListItem\", \"item\": {\"@id\": \"/c/la/taiwanese\", \"name\": \"Taiwanese\"}}], \"@type\": \"BreadcrumbList\"}\n",
      "\n"
     ]
    }
   ],
   "source": [
    "# HTML\n",
    "import requests\n",
    "from bs4 import BeautifulSoup\n",
    "\n",
    "url = 'https://www.yelp.com/biz/din-tai-fung-los-angeles?osq=restaurants'\n",
    "r = requests.get(url)\n",
    "html_doc = r.text\n",
    "soup = BeautifulSoup(html_doc)\n",
    "\n",
    "print(soup.title.get_text(),'\\n')\n",
    "\n",
    "script = soup.select('script')[7].get_text()\n",
    "print(script)"
   ]
  },
  {
   "cell_type": "markdown",
   "metadata": {},
   "source": [
    "# -------------------- Pandas --------------------"
   ]
  },
  {
   "cell_type": "markdown",
   "metadata": {},
   "source": [
    "## 1. Introducing Pandas Objects"
   ]
  },
  {
   "cell_type": "code",
   "execution_count": 36,
   "metadata": {},
   "outputs": [
    {
     "name": "stdout",
     "output_type": "stream",
     "text": [
      "a    0.25\n",
      "b    0.50\n",
      "c    0.75\n",
      "c    1.00\n",
      "dtype: float64 \n",
      "\n",
      "California    3833251\n",
      "Texas         2644819\n",
      "New York      1965112\n",
      "dtype: int64 \n",
      "\n",
      "[3833251 2644819 1965112]\n",
      "Index(['California', 'Texas', 'New York'], dtype='object')\n"
     ]
    }
   ],
   "source": [
    "# Pandas Series -> one-dimensional array of indexed data\n",
    "# Difference: pd.Series has an explicitly defined index\n",
    "# 1. Created by a list or NumPy array\n",
    "data = pd.Series([0.25,0.5,0.75,1], index = ['a','b','c','c'])\n",
    "print(data,\"\\n\")\n",
    "\n",
    "# 2. Created by a dictionary\n",
    "population_dict = {'California':3833251,'Texas':2644819,'New York': 1965112}\n",
    "population = pd.Series(population_dict)\n",
    "print(population,'\\n')\n",
    "\n",
    "# 3. series.values/index\n",
    "print(population.values)\n",
    "print(population.index)"
   ]
  },
  {
   "cell_type": "code",
   "execution_count": 606,
   "metadata": {},
   "outputs": [
    {
     "name": "stdout",
     "output_type": "stream",
     "text": [
      "            population\n",
      "California     3833251\n",
      "Texas          2644819\n",
      "New York       1965112 \n",
      "\n",
      "   a  b\n",
      "0  0  0\n",
      "1  1  2\n",
      "2  2  4 \n",
      "\n",
      "            population  area\n",
      "California     3833251  4239\n",
      "Texas          2644819  6956\n",
      "New York       1965112  1412 \n",
      "\n",
      "        foo       bar\n",
      "a  0.828657  0.924967\n",
      "b  0.046007  0.232627\n",
      "c  0.348519  0.814966\n"
     ]
    }
   ],
   "source": [
    "# Pandas Dataframe -> two-dimensional array with both row indices and column names\n",
    "# 1. Created by a single Series object\n",
    "df1 = pd.DataFrame(population, columns = ['population'])\n",
    "print(df1,'\\n')\n",
    "\n",
    "# 2. From a list of dicts\n",
    "df2 = pd.DataFrame([{'a':i, 'b':2*i} for i in range(3)])\n",
    "print(df2, '\\n')\n",
    "\n",
    "# 3. From a dictionary of Series\n",
    "area = pd.Series({'California':4239,'Texas':6956,'New York': 1412})\n",
    "df3 = pd.DataFrame({\"population\":population, 'area':area})\n",
    "print(df3,'\\n')\n",
    "\n",
    "# 4. From a two-dimensional NumPy array\n",
    "df4 = pd.DataFrame(np.random.rand(3,2),columns=['foo','bar'],index=['a','b','c'])\n",
    "print(df4)"
   ]
  },
  {
   "cell_type": "code",
   "execution_count": 569,
   "metadata": {},
   "outputs": [
    {
     "name": "stdout",
     "output_type": "stream",
     "text": [
      "RangeIndex(start=0, stop=244, step=1) \n",
      "\n",
      "Index(['total_bill', 'tip', 'sex', 'smoker', 'day', 'time', 'size'], dtype='object') \n",
      "\n",
      "(244, 7) \n",
      "\n",
      "<class 'pandas.core.frame.DataFrame'>\n",
      "RangeIndex: 244 entries, 0 to 243\n",
      "Data columns (total 7 columns):\n",
      "total_bill    244 non-null float64\n",
      "tip           244 non-null float64\n",
      "sex           244 non-null category\n",
      "smoker        244 non-null object\n",
      "day           244 non-null object\n",
      "time          244 non-null object\n",
      "size          244 non-null int64\n",
      "dtypes: category(1), float64(2), int64(1), object(3)\n",
      "memory usage: 11.9+ KB\n",
      "None \n",
      "\n",
      "Male      157\n",
      "Female     87\n",
      "Name: sex, dtype: int64\n",
      "<class 'pandas.core.frame.DataFrame'>\n",
      "Int64Index: 243 entries, 0 to 243\n",
      "Data columns (total 7 columns):\n",
      "total_bill    243 non-null float64\n",
      "tip           243 non-null float64\n",
      "sex           243 non-null category\n",
      "smoker        243 non-null object\n",
      "day           243 non-null object\n",
      "time          243 non-null object\n",
      "size          243 non-null int64\n",
      "dtypes: category(1), float64(2), int64(1), object(3)\n",
      "memory usage: 13.6+ KB\n",
      "None \n",
      "\n",
      "    BILL  TIPS  GENDER SMOKER?  DAY    TIME  SIZE\n",
      "0  16.99  1.01  Female      No  Sun  Dinner  1708\n",
      "1  10.34  1.66    Male      No  Sun  Dinner  1708\n",
      "2  21.01  3.50    Male      No  Sun  Dinner  1708\n",
      "3  23.68  3.31    Male      No  Sun  Dinner  1708\n",
      "4  24.59  3.61  Female      No  Sun  Dinner  1708\n"
     ]
    }
   ],
   "source": [
    "# DF understanding\n",
    "\n",
    "# 1. Index\n",
    "print(tips.index,'\\n')\n",
    "\n",
    "# 2. Columns\n",
    "print(tips.columns,'\\n')\n",
    "\n",
    "# 3. Shape\n",
    "print(tips.shape,'\\n')\n",
    "\n",
    "# 4. Information\n",
    "tips.sex = tips.sex.astype('category') # Change column format\n",
    "tips.size = pd.to_numeric(tips.size) # errors = 'coerce' -> the invalid parsing will be set as NaN\n",
    "print(tips.info(),'\\n')\n",
    "\n",
    "# 5. Counts distinct values for a column\n",
    "print(tips.sex.value_counts(dropna=False))\n",
    "\n",
    "# 6. drop duplicate\n",
    "tips_noduplicate = tips.drop_duplicates()\n",
    "print(tips_noduplicate.info(),'\\n')\n",
    "\n",
    "# 7. Change column names\n",
    "tips.columns = ['BILL','TIPS','GENDER','SMOKER?','DAY','TIME','SIZE']\n",
    "# tips = tips.add_suffix(\"_LA\") -> 'BILL_LA', 'TIPS_LA', ...\n",
    "print(tips.head())"
   ]
  },
  {
   "cell_type": "markdown",
   "metadata": {},
   "source": [
    "## 2. Data Indexing and Selection"
   ]
  },
  {
   "cell_type": "code",
   "execution_count": 37,
   "metadata": {},
   "outputs": [
    {
     "name": "stdout",
     "output_type": "stream",
     "text": [
      "a    0.25\n",
      "b    0.50\n",
      "c    0.75\n",
      "c    1.00\n",
      "dtype: float64 \n",
      "\n",
      "Index(['a', 'b', 'c', 'c'], dtype='object')\n",
      "[('a', 0.25), ('b', 0.5), ('c', 0.75), ('c', 1.0)] \n",
      "\n",
      "a    0.25\n",
      "b    0.50\n",
      "dtype: float64 \n",
      "\n",
      "c    0.75\n",
      "c    1.00\n",
      "dtype: float64\n"
     ]
    }
   ],
   "source": [
    "# Series\n",
    "print(data,'\\n')\n",
    "\n",
    "# Series as dictionary:\n",
    "print(data.keys())\n",
    "print(list(data.items()),'\\n')\n",
    "\n",
    "# Series as one-dimensional array:\n",
    "print(data[0:2],'\\n')\n",
    "# data[['a','b']]\n",
    "# data[(data>0.5)]\n",
    "\n",
    "# Series as indexers:\n",
    "print(data.loc['c'])\n",
    "# data.iloc[2:]"
   ]
  },
  {
   "cell_type": "code",
   "execution_count": 574,
   "metadata": {},
   "outputs": [
    {
     "name": "stdout",
     "output_type": "stream",
     "text": [
      "            population  area      density\n",
      "California     3833251  4239   904.281906\n",
      "Texas          2644819  6956   380.221248\n",
      "New York       1965112  1412  1391.722380 \n",
      "\n",
      "California    4239\n",
      "Texas         6956\n",
      "New York      1412\n",
      "Name: area, dtype: int64 \n",
      "\n",
      "[[3.83325100e+06 4.23900000e+03 9.04281906e+02]\n",
      " [2.64481900e+06 6.95600000e+03 3.80221248e+02]\n",
      " [1.96511200e+06 1.41200000e+03 1.39172238e+03]] \n",
      "\n",
      "              California         Texas      New York\n",
      "population  3.833251e+06  2.644819e+06  1.965112e+06\n",
      "area        4.239000e+03  6.956000e+03  1.412000e+03\n",
      "density     9.042819e+02  3.802212e+02  1.391722e+03 \n",
      "\n",
      "            area     density\n",
      "California  4239  904.281906\n",
      "Texas       6956  380.221248 \n",
      "\n",
      "          population  area     density\n",
      "New York     1965112  1412  1391.72238 \n",
      "\n",
      "            population  area      density\n",
      "New York       1965112  1412  1391.722380\n",
      "New York       1965112  1412  1391.722380\n",
      "Texas          2644819  6956   380.221248\n",
      "New York       1965112  1412  1391.722380\n",
      "California     3833251  4239   904.281906\n"
     ]
    }
   ],
   "source": [
    "# DataFrame\n",
    "df3['density'] = df3['population']/df3['area']\n",
    "\n",
    "print(df3,'\\n')\n",
    "\n",
    "# DF as dictionary (two ways):\n",
    "print(df3['area'],'\\n') # or df3.area\n",
    "# [] for series, [[]] for dataframe\n",
    "\n",
    "# DF as two-dimensional array:\n",
    "print(df3.values,'\\n')\n",
    "print(df3.T,'\\n')\n",
    "\n",
    "# DF as indexers:\n",
    "print(df3.loc[:'Texas','area':],'\\n')\n",
    "# df3.iloc[:2,1:]\n",
    "\n",
    "# DF as Filter:\n",
    "print(df3[df3.area<1500],'\\n')\n",
    "\n",
    "# # choose 2 samples with replacement\n",
    "print(df3.sample(n=5, replace = True))"
   ]
  },
  {
   "cell_type": "markdown",
   "metadata": {},
   "source": [
    "## 3. Handling Missing Data"
   ]
  },
  {
   "cell_type": "code",
   "execution_count": 16,
   "metadata": {},
   "outputs": [
    {
     "name": "stdout",
     "output_type": "stream",
     "text": [
      "<class 'float'> <class 'NoneType'> <class 'str'>\n",
      "[ 1. nan  3.  4.]\n",
      "nan\n"
     ]
    }
   ],
   "source": [
    "print(type(np.NaN), type(None), type(\"\")) \n",
    "# np.nan equal NaN (from numpy import NaN)\n",
    "# None is an additional type, can't used with sum()\n",
    "\n",
    "value = np.array([1,np.nan,3,4]) \n",
    "print(value)\n",
    "print(value.sum()) # sum can't use with None, and will equal to nan if there is a nan in the array\n"
   ]
  },
  {
   "cell_type": "code",
   "execution_count": 565,
   "metadata": {},
   "outputs": [
    {
     "name": "stdout",
     "output_type": "stream",
     "text": [
      "----- Series -----\n",
      "0    False\n",
      "1     True\n",
      "2    False\n",
      "3     True\n",
      "dtype: bool \n",
      "\n",
      "0        1\n",
      "2    hello\n",
      "dtype: object \n",
      "\n",
      "----- Dataframe -----\n",
      "   col1  col2  col3\n",
      "0   1.0   NaN     2\n",
      "1   2.0   3.0     5\n",
      "2   NaN   4.0     6 \n",
      "\n",
      "   col1  col2  col3\n",
      "1   2.0   3.0     5 \n",
      "\n",
      "   col1  col2  col3\n",
      "0   1.0   6.0     2\n",
      "1   2.0   3.0     5\n",
      "2   6.0   4.0     6\n"
     ]
    }
   ],
   "source": [
    "# Detecting null values:\n",
    "data = pd.Series([1,np.nan,'hello',None])\n",
    "print('----- Series -----')\n",
    "print(data.isnull(),'\\n')\n",
    "print(data[data.notnull()],'\\n')\n",
    "\n",
    "# Dropping null values:\n",
    "df = pd.DataFrame([[1,np.nan,2],[2,3,5],[None,4,6]],columns=['col1','col2','col3'])\n",
    "print('----- Dataframe -----')\n",
    "print(df, '\\n')\n",
    "print(df.dropna(axis='rows'),'\\n')\n",
    "# how = 'any/all', dropna only if any/all the row values are null\n",
    "# thresh = 3 -> specify a minimum number of non-values for the row to be kept\n",
    "\n",
    "# Filling null values:\n",
    "print(df.fillna(df.col3.max())) # filling NA with max\n",
    "# df.fillna('Missing') -> filling NA with 'Missing'\n",
    "# method = 'ffill' -> each NULL equals to previous value\n",
    "# method = 'bfill' -> each NULL equals to next value\n",
    "# For DataFrames, specify the axis -> df.fillna(method='ffill',axis=1)\n"
   ]
  },
  {
   "cell_type": "markdown",
   "metadata": {},
   "source": [
    "## 4. Hierarchical Indexing"
   ]
  },
  {
   "cell_type": "code",
   "execution_count": 18,
   "metadata": {},
   "outputs": [
    {
     "name": "stdout",
     "output_type": "stream",
     "text": [
      "           Ozone  Solar.R\n",
      "Month Day                \n",
      "5     1     41.0    190.0\n",
      "      2     36.0    118.0\n",
      "      3     12.0    149.0\n",
      "      4     18.0    313.0\n",
      "      5      NaN      NaN\n",
      "...          ...      ...\n",
      "9     26    30.0    193.0\n",
      "      27     NaN    145.0\n",
      "      28    14.0    191.0\n",
      "      29    18.0    131.0\n",
      "      30    20.0    223.0\n",
      "\n",
      "[153 rows x 2 columns]\n"
     ]
    }
   ],
   "source": [
    "air_H = air.set_index(['Month','Day']).iloc[:,:2]\n",
    "print(air_H)"
   ]
  },
  {
   "cell_type": "code",
   "execution_count": 19,
   "metadata": {
    "scrolled": true
   },
   "outputs": [
    {
     "name": "stdout",
     "output_type": "stream",
     "text": [
      "           Ozone  Solar.R\n",
      "Month Day                \n",
      "9     30    20.0    223.0\n",
      "      29    18.0    131.0\n",
      "      28    14.0    191.0\n",
      "      27     NaN    145.0\n",
      "      26    30.0    193.0\n",
      "...          ...      ...\n",
      "5     5      NaN      NaN\n",
      "      4     18.0    313.0\n",
      "      3     12.0    149.0\n",
      "      2     36.0    118.0\n",
      "      1     41.0    190.0\n",
      "\n",
      "[153 rows x 2 columns] \n",
      "\n",
      "           Ozone     Solar.R\n",
      "Month                       \n",
      "9      31.448276  167.433333\n",
      "8      59.961538  171.857143\n",
      "7      59.115385  216.483871\n",
      "6      29.444444  190.166667\n",
      "5      23.615385  181.296296\n",
      "       Ozone                           Solar.R                            \n",
      "Month      5     6      7      8     9       5      6      7      8      9\n",
      "Day                                                                       \n",
      "1       41.0   NaN  135.0   39.0  96.0   190.0  286.0  269.0   83.0  167.0\n",
      "2       36.0   NaN   49.0    9.0  78.0   118.0  287.0  248.0   24.0  197.0\n",
      "3       12.0   NaN   32.0   16.0  73.0   149.0  242.0  236.0   77.0  183.0\n",
      "4       18.0   NaN    NaN   78.0  91.0   313.0  186.0  101.0    NaN  189.0\n",
      "5        NaN   NaN   64.0   35.0  47.0     NaN  220.0  175.0    NaN   95.0\n",
      "6       28.0   NaN   40.0   66.0  32.0     NaN  264.0  314.0    NaN   92.0\n",
      "7       23.0  29.0   77.0  122.0  20.0   299.0  127.0  276.0  255.0  252.0\n",
      "8       19.0   NaN   97.0   89.0  23.0    99.0  273.0  267.0  229.0  220.0\n",
      "9        8.0  71.0   97.0  110.0  21.0    19.0  291.0  272.0  207.0  230.0\n",
      "10       NaN  39.0   85.0    NaN  24.0   194.0  323.0  175.0  222.0  259.0\n",
      "11       7.0   NaN    NaN    NaN  44.0     NaN  259.0  139.0  137.0  236.0\n",
      "12      16.0   NaN   10.0   44.0  21.0   256.0  250.0  264.0  192.0  259.0\n",
      "13      11.0  23.0   27.0   28.0  28.0   290.0  148.0  175.0  273.0  238.0\n",
      "14      14.0   NaN    NaN   65.0   9.0   274.0  332.0  291.0  157.0   24.0\n",
      "15      18.0   NaN    7.0    NaN  13.0    65.0  322.0   48.0   64.0  112.0\n",
      "16      14.0  21.0   48.0   22.0  46.0   334.0  191.0  260.0   71.0  237.0\n",
      "17      34.0  37.0   35.0   59.0  18.0   307.0  284.0  274.0   51.0  224.0\n",
      "18       6.0  20.0   61.0   23.0  13.0    78.0   37.0  285.0  115.0   27.0\n",
      "19      30.0  12.0   79.0   31.0  24.0   322.0  120.0  187.0  244.0  238.0\n",
      "20      11.0  13.0   63.0   44.0  16.0    44.0  137.0  220.0  190.0  201.0\n",
      "21       1.0   NaN   16.0   21.0  13.0     8.0  150.0    7.0  259.0  238.0\n",
      "22      11.0   NaN    NaN    9.0  23.0   320.0   59.0  258.0   36.0   14.0\n",
      "23       4.0   NaN    NaN    NaN  36.0    25.0   91.0  295.0  255.0  139.0\n",
      "24      32.0   NaN   80.0   45.0   7.0    92.0  250.0  294.0  212.0   49.0\n",
      "25       NaN   NaN  108.0  168.0  14.0    66.0  135.0  223.0  238.0   20.0\n",
      "26       NaN   NaN   20.0   73.0  30.0   266.0  127.0   81.0  215.0  193.0\n",
      "27       NaN   NaN   52.0    NaN   NaN     NaN   47.0   82.0  153.0  145.0\n",
      "28      23.0   NaN   82.0   76.0  14.0    13.0   98.0  213.0  203.0  191.0\n",
      "29      45.0   NaN   50.0  118.0  18.0   252.0   31.0  275.0  225.0  131.0\n",
      "30     115.0   NaN   64.0   84.0  20.0   223.0  138.0  253.0  237.0  223.0\n",
      "31      37.0   NaN   59.0   85.0   NaN   279.0    NaN  254.0  188.0    NaN \n",
      "\n",
      "       Ozone                                                          ...  \\\n",
      "Day       1     2     3     4     5     6      7     8      9     10  ...   \n",
      "Month                                                                 ...   \n",
      "5       41.0  36.0  12.0  18.0   NaN  28.0   23.0  19.0    8.0   NaN  ...   \n",
      "6        NaN   NaN   NaN   NaN   NaN   NaN   29.0   NaN   71.0  39.0  ...   \n",
      "7      135.0  49.0  32.0   NaN  64.0  40.0   77.0  97.0   97.0  85.0  ...   \n",
      "8       39.0   9.0  16.0  78.0  35.0  66.0  122.0  89.0  110.0   NaN  ...   \n",
      "9       96.0  78.0  73.0  91.0  47.0  32.0   20.0  23.0   21.0  24.0  ...   \n",
      "\n",
      "      Solar.R                                                                 \n",
      "Day        22     23     24     25     26     27     28     29     30     31  \n",
      "Month                                                                         \n",
      "5       320.0   25.0   92.0   66.0  266.0    NaN   13.0  252.0  223.0  279.0  \n",
      "6        59.0   91.0  250.0  135.0  127.0   47.0   98.0   31.0  138.0    NaN  \n",
      "7       258.0  295.0  294.0  223.0   81.0   82.0  213.0  275.0  253.0  254.0  \n",
      "8        36.0  255.0  212.0  238.0  215.0  153.0  203.0  225.0  237.0  188.0  \n",
      "9        14.0  139.0   49.0   20.0  193.0  145.0  191.0  131.0  223.0    NaN  \n",
      "\n",
      "[5 rows x 62 columns] \n",
      "\n",
      "<bound method DataFrame.reset_index of            Ozone  Solar.R\n",
      "Month Day                \n",
      "9     30    20.0    223.0\n",
      "      29    18.0    131.0\n",
      "      28    14.0    191.0\n",
      "      27     NaN    145.0\n",
      "      26    30.0    193.0\n",
      "...          ...      ...\n",
      "5     5      NaN      NaN\n",
      "      4     18.0    313.0\n",
      "      3     12.0    149.0\n",
      "      2     36.0    118.0\n",
      "      1     41.0    190.0\n",
      "\n",
      "[153 rows x 2 columns]> \n",
      "\n"
     ]
    }
   ],
   "source": [
    "# sort\n",
    "air_H = air_H.sort_index(ascending=False)\n",
    "print(air_H,\"\\n\")\n",
    "\n",
    "# Data Aggregations on Multi-indices\n",
    "air_mean = air_H.mean(level = 'Month') # or level=0\n",
    "print(air_mean)\n",
    "\n",
    "# unstack\n",
    "print(air_H.unstack(level=0),\"\\n\") # level=0 -> unstack for Day\n",
    "print(air_H.unstack(level=1),\"\\n\") # level=1 (default) -> unstack for Month\n",
    "# stack() -> oppoisite of unstack\n",
    "\n",
    "# index setting * resetting\n",
    "air_H2 = air_H.reset_index()\n",
    "print(air_H2,\"\\n\") # choose the column without multiindex"
   ]
  },
  {
   "cell_type": "markdown",
   "metadata": {},
   "source": [
    "## 5. Combining Datasets"
   ]
  },
  {
   "cell_type": "code",
   "execution_count": 3,
   "metadata": {},
   "outputs": [
    {
     "name": "stdout",
     "output_type": "stream",
     "text": [
      "  employee        group\n",
      "0      Bob   Accounting\n",
      "1     Jake  Engineering\n",
      "2     Lisa  Engineering\n",
      "3      Sue           HR \n",
      "\n",
      "         skills        group\n",
      "0          math   Accounting\n",
      "1  spreadsheets   Accounting\n",
      "2        coding  Engineering\n",
      "3         linux  Engineering\n",
      "4  spreadsheets           HR\n",
      "5  organization           HR \n",
      "\n",
      "   name  salary\n",
      "0   Bob   70000\n",
      "1  Jake   80000\n",
      "2  Lisa  120000\n",
      "3   Sue   90000\n"
     ]
    }
   ],
   "source": [
    "df1 = pd.DataFrame({'employee':['Bob','Jake','Lisa','Sue'],\n",
    "                    'group':['Accounting','Engineering','Engineering','HR']})\n",
    "df2 = pd.DataFrame({'skills':['math','spreadsheets','coding','linux','spreadsheets','organization'],\n",
    "                   'group':['Accounting','Accounting','Engineering','Engineering','HR','HR']})\n",
    "df3 = pd.DataFrame({'name':['Bob','Jake','Lisa','Sue'],\n",
    "                    'salary':[70000,80000,120000,90000]})\n",
    "print(df1,'\\n')\n",
    "print(df2,'\\n')\n",
    "print(df3)"
   ]
  },
  {
   "cell_type": "code",
   "execution_count": 608,
   "metadata": {},
   "outputs": [
    {
     "name": "stdout",
     "output_type": "stream",
     "text": [
      "  employee        group\n",
      "0      Bob   Accounting\n",
      "1     Jake  Engineering\n",
      "2     Lisa  Engineering\n",
      "3      Sue           HR\n",
      "0      Bob   Accounting\n",
      "1     Jake  Engineering\n",
      "2     Lisa  Engineering\n",
      "3      Sue           HR \n",
      "\n",
      "  employee        group employee        group\n",
      "0      Bob   Accounting      Bob   Accounting\n",
      "1     Jake  Engineering     Jake  Engineering\n",
      "2     Lisa  Engineering     Lisa  Engineering\n",
      "3      Sue           HR      Sue           HR \n",
      "\n",
      "         group\n",
      "0   Accounting\n",
      "1  Engineering\n",
      "2  Engineering\n",
      "3           HR\n",
      "0   Accounting\n",
      "1   Accounting\n",
      "2  Engineering\n",
      "3  Engineering\n",
      "4           HR\n",
      "5           HR\n"
     ]
    }
   ],
   "source": [
    "### pd.concat() -> Need same column name\n",
    "print(pd.concat([df1,df1]),'\\n') \n",
    "# ignore_index=True -> create a new indices\n",
    "print(pd.concat([df1,df1],axis=1),'\\n') # concat by columns\n",
    "\n",
    "# (Default) -> if no data is available -> filled with NA\n",
    "print(pd.concat([df1,df2],join='inner'))\n"
   ]
  },
  {
   "cell_type": "code",
   "execution_count": 4,
   "metadata": {},
   "outputs": [
    {
     "name": "stdout",
     "output_type": "stream",
     "text": [
      "  employee        group        skills\n",
      "0      Bob   Accounting          math\n",
      "1      Bob   Accounting  spreadsheets\n",
      "2     Jake  Engineering        coding\n",
      "3     Jake  Engineering         linux\n",
      "4     Lisa  Engineering        coding\n",
      "5     Lisa  Engineering         linux\n",
      "6      Sue           HR  spreadsheets\n",
      "7      Sue           HR  organization \n",
      "\n",
      "  employee        group  salary\n",
      "0      Bob   Accounting   70000\n",
      "1     Jake  Engineering   80000\n",
      "2     Lisa  Engineering  120000\n",
      "3      Sue           HR   90000 \n",
      "\n",
      "   name  salary($)  salary(Thousand $)\n",
      "0   Bob      70000                  70\n",
      "1  Jake      80000                  80\n",
      "2  Lisa     120000                 100\n",
      "3   Sue      90000                  90\n"
     ]
    }
   ],
   "source": [
    "### pd.merge()\n",
    "print(pd.merge(df1,df2,on='group'),'\\n')\n",
    "# on = ['group','skills']\n",
    "# how = 'outer'/'left'/'right' -> default:'inner'\n",
    "\n",
    "# When column names are different\n",
    "print(pd.merge(df1,df3,left_on='employee',right_on='name').drop('name',axis=1),'\\n')\n",
    "# .drop('name',axis=1) -> remove the seoncd duplicated column\n",
    "\n",
    "# When need to keep two columns -> Add suffixes keyword\n",
    "df3b = pd.DataFrame({'name':['Bob','Jake','Lisa','Sue'],'salary':[70,80,100,90]})\n",
    "print(pd.merge(df3,df3b,on='name',suffixes=['($)','(Thousand $)']))"
   ]
  },
  {
   "cell_type": "markdown",
   "metadata": {},
   "source": [
    "## 6. Aggregation and Grouping"
   ]
  },
  {
   "cell_type": "code",
   "execution_count": 451,
   "metadata": {},
   "outputs": [
    {
     "data": {
      "text/html": [
       "<div>\n",
       "<style scoped>\n",
       "    .dataframe tbody tr th:only-of-type {\n",
       "        vertical-align: middle;\n",
       "    }\n",
       "\n",
       "    .dataframe tbody tr th {\n",
       "        vertical-align: top;\n",
       "    }\n",
       "\n",
       "    .dataframe thead th {\n",
       "        text-align: right;\n",
       "    }\n",
       "</style>\n",
       "<table border=\"1\" class=\"dataframe\">\n",
       "  <thead>\n",
       "    <tr style=\"text-align: right;\">\n",
       "      <th></th>\n",
       "      <th>key</th>\n",
       "      <th>data1</th>\n",
       "      <th>data2</th>\n",
       "    </tr>\n",
       "  </thead>\n",
       "  <tbody>\n",
       "    <tr>\n",
       "      <td>0</td>\n",
       "      <td>A</td>\n",
       "      <td>0</td>\n",
       "      <td>5</td>\n",
       "    </tr>\n",
       "    <tr>\n",
       "      <td>1</td>\n",
       "      <td>B</td>\n",
       "      <td>1</td>\n",
       "      <td>0</td>\n",
       "    </tr>\n",
       "    <tr>\n",
       "      <td>2</td>\n",
       "      <td>C</td>\n",
       "      <td>2</td>\n",
       "      <td>3</td>\n",
       "    </tr>\n",
       "    <tr>\n",
       "      <td>3</td>\n",
       "      <td>A</td>\n",
       "      <td>3</td>\n",
       "      <td>3</td>\n",
       "    </tr>\n",
       "    <tr>\n",
       "      <td>4</td>\n",
       "      <td>B</td>\n",
       "      <td>4</td>\n",
       "      <td>7</td>\n",
       "    </tr>\n",
       "    <tr>\n",
       "      <td>5</td>\n",
       "      <td>C</td>\n",
       "      <td>5</td>\n",
       "      <td>9</td>\n",
       "    </tr>\n",
       "  </tbody>\n",
       "</table>\n",
       "</div>"
      ],
      "text/plain": [
       "  key  data1  data2\n",
       "0   A      0      5\n",
       "1   B      1      0\n",
       "2   C      2      3\n",
       "3   A      3      3\n",
       "4   B      4      7\n",
       "5   C      5      9"
      ]
     },
     "execution_count": 451,
     "metadata": {},
     "output_type": "execute_result"
    }
   ],
   "source": [
    "rng = np.random.RandomState(0)\n",
    "df = pd.DataFrame({'key':['A','B','C','A','B','C'],\n",
    "                   'data1':range(6),'data2':rng.randint(0,10,6)},\n",
    "                  columns=['key','data1','data2'])\n",
    "df"
   ]
  },
  {
   "cell_type": "code",
   "execution_count": 453,
   "metadata": {},
   "outputs": [
    {
     "name": "stdout",
     "output_type": "stream",
     "text": [
      "          data1     data2\n",
      "count  6.000000  6.000000\n",
      "mean   2.500000  4.500000\n",
      "std    1.870829  3.209361\n",
      "min    0.000000  0.000000\n",
      "25%    1.250000  3.000000\n",
      "50%    2.500000  4.000000\n",
      "75%    3.750000  6.500000\n",
      "max    5.000000  9.000000 \n",
      "\n",
      "key      C\n",
      "data1    5\n",
      "data2    9\n",
      "dtype: object\n"
     ]
    }
   ],
   "source": [
    "# Summary\n",
    "print(df.dropna().describe(),'\\n')\n",
    "\n",
    "# Aggregation methods\n",
    "print(df.max())\n",
    "# count/sum()\n",
    "# first/last()\n",
    "# mean/median()\n",
    "# min/max()\n",
    "# std()/var()\n",
    "# mad() -> mean absolute deviation\n",
    "# prod() -> product of all items"
   ]
  },
  {
   "cell_type": "code",
   "execution_count": 458,
   "metadata": {},
   "outputs": [
    {
     "name": "stdout",
     "output_type": "stream",
     "text": [
      "key\n",
      "A    1.5\n",
      "B    2.5\n",
      "C    3.5\n",
      "Name: data1, dtype: float64 \n",
      "\n",
      "    data1                 data2                \n",
      "      min median max mean   min median max mean\n",
      "key                                            \n",
      "A       0    1.5   3  1.5     3    4.0   5  4.0\n",
      "B       1    2.5   4  2.5     0    3.5   7  3.5\n",
      "C       2    3.5   5  3.5     3    6.0   9  6.0 \n",
      "\n",
      "     data1  data2\n",
      "key              \n",
      "A        0      5\n",
      "B        1      7\n",
      "C        2      9\n"
     ]
    }
   ],
   "source": [
    "# GroupBy\n",
    "print(df.groupby('key')['data1'].mean(),'\\n')\n",
    "\n",
    "# Aggregation\n",
    "print(df.groupby('key')['data1','data2'].aggregate(['min',np.median,max,'mean']),'\\n') # can take a string, a function or a list at once\n",
    "print(df.groupby('key').aggregate({'data1':'min','data2':'max'})) # also can pass a dictionary"
   ]
  },
  {
   "cell_type": "code",
   "execution_count": 460,
   "metadata": {},
   "outputs": [
    {
     "name": "stdout",
     "output_type": "stream",
     "text": [
      "   data1  data2\n",
      "0      6     11\n",
      "1      9     16 \n",
      "\n",
      "             data1  data2\n",
      "consonant b      5      7\n",
      "          c      7     12\n",
      "vowel     a      3      8\n"
     ]
    }
   ],
   "source": [
    "## Specifying the split key\n",
    "\n",
    "# M1: Replace a new key\n",
    "L = [0,0,0,0,1,1]\n",
    "print(df.groupby(L).sum(),'\\n')\n",
    "\n",
    "# M2: Mapping index by dictionary / series\n",
    "df2 = df.set_index('key')\n",
    "mapping = {'A':'vowel','B':'consonant','C':'consonant'}\n",
    "print(df2.groupby([mapping, str.lower]).sum()) # groupby(str.lower) -> format the index"
   ]
  },
  {
   "cell_type": "markdown",
   "metadata": {},
   "source": [
    "## 7. Pivot Tables"
   ]
  },
  {
   "cell_type": "code",
   "execution_count": 586,
   "metadata": {},
   "outputs": [
    {
     "name": "stdout",
     "output_type": "stream",
     "text": [
      "      Ozone  Solar.R  Wind  Temp Month  Day\n",
      "0  41.00000    190.0   7.4    67     5    1\n",
      "1  36.00000    118.0   8.0    72     5    2\n",
      "2  12.00000    149.0  12.6    74     5    3\n",
      "3  18.00000    313.0  11.5    62     5    4\n",
      "4  42.12931      NaN  14.3    56     5    5 \n",
      "\n",
      "  Month  Day measurement   reading\n",
      "0     5    1       Ozone  41.00000\n",
      "1     5    2       Ozone  36.00000\n",
      "2     5    3       Ozone  12.00000\n",
      "3     5    4       Ozone  18.00000\n",
      "4     5    5       Ozone  42.12931 \n",
      "\n",
      "   key_Ozone  key_Solar.R  key_Temp  key_Wind\n",
      "0          1            0         0         0\n",
      "1          1            0         0         0\n",
      "2          1            0         0         0\n",
      "3          1            0         0         0\n",
      "4          1            0         0         0\n"
     ]
    }
   ],
   "source": [
    "# pd.melt()\n",
    "print(air.head(),'\\n')\n",
    "\n",
    "air_melt = pd.melt(air, id_vars = ['Month','Day'],var_name = 'measurement',value_name='reading')\n",
    "print(air_melt.head(),'\\n')\n",
    "\n",
    "# Transfer column to dummies\n",
    "air_dummies = pd.get_dummies(air_melt['measurement'],prefix='key')\n",
    "print(air_dummies.head())"
   ]
  },
  {
   "cell_type": "code",
   "execution_count": 470,
   "metadata": {},
   "outputs": [
    {
     "name": "stdout",
     "output_type": "stream",
     "text": [
      "   survived  pclass     sex   age  sibsp  parch     fare embarked  class  \\\n",
      "0         0       3    male  22.0      1      0   7.2500        S  Third   \n",
      "1         1       1  female  38.0      1      0  71.2833        C  First   \n",
      "2         1       3  female  26.0      0      0   7.9250        S  Third   \n",
      "3         1       1  female  35.0      1      0  53.1000        S  First   \n",
      "4         0       3    male  35.0      0      0   8.0500        S  Third   \n",
      "\n",
      "     who  adult_male deck  embark_town alive  alone  \n",
      "0    man        True  NaN  Southampton    no  False  \n",
      "1  woman       False    C    Cherbourg   yes  False  \n",
      "2  woman       False  NaN  Southampton   yes   True  \n",
      "3  woman       False    C  Southampton   yes  False  \n",
      "4    man        True  NaN  Southampton    no   True   \n",
      "\n",
      "0      (18.0, 80.0]\n",
      "1      (18.0, 80.0]\n",
      "2      (18.0, 80.0]\n",
      "3      (18.0, 80.0]\n",
      "4      (18.0, 80.0]\n",
      "           ...     \n",
      "886    (18.0, 80.0]\n",
      "887    (18.0, 80.0]\n",
      "888             NaN\n",
      "889    (18.0, 80.0]\n",
      "890    (18.0, 80.0]\n",
      "Name: age, Length: 891, dtype: category\n",
      "Categories (2, interval[int64]): [(0, 18] < (18, 80]]\n"
     ]
    }
   ],
   "source": [
    "titanic = sns.load_dataset('titanic')\n",
    "print(titanic.head(),'\\n')\n",
    "age = pd.cut(titanic['age'],[0,18,80])\n",
    "print(age)"
   ]
  },
  {
   "cell_type": "code",
   "execution_count": 593,
   "metadata": {},
   "outputs": [
    {
     "name": "stdout",
     "output_type": "stream",
     "text": [
      "class               First    Second     Third\n",
      "sex    age                                   \n",
      "female (0, 18]   0.909091  1.000000  0.511628\n",
      "       (18, 80]  0.972973  0.900000  0.423729\n",
      "male   (0, 18]   0.800000  0.600000  0.215686\n",
      "       (18, 80]  0.375000  0.071429  0.133663 \n",
      "\n",
      "class           First    Second     Third  Sum of Mean\n",
      "sex                                                   \n",
      "female       0.968085  0.921053  0.500000     0.742038\n",
      "male         0.368852  0.157407  0.135447     0.188908\n",
      "Sum of Mean  0.629630  0.472826  0.242363     0.383838\n"
     ]
    }
   ],
   "source": [
    "# pivot table -> shows multidimensional aggregation\n",
    "print(titanic.pivot_table(values='survived',index=['sex',age],columns='class',aggfunc='mean'),'\\n')\n",
    "# groupby -> titanic.groupby(['sex','class'])['survived'].aggregate('mean').unstack()\n",
    "\n",
    "# Other options\n",
    "print(titanic.pivot_table('survived',index=['sex'],columns='class',\n",
    "                         fill_value = None, dropna = True,\n",
    "                         margins = True, margins_name = \"Sum of Mean\",\n",
    "                         aggfunc = 'mean'))\n",
    "# aggfunc = {'survived':'mean','fare':'sum'}"
   ]
  },
  {
   "cell_type": "code",
   "execution_count": 599,
   "metadata": {},
   "outputs": [
    {
     "data": {
      "text/html": [
       "<div>\n",
       "<style scoped>\n",
       "    .dataframe tbody tr th:only-of-type {\n",
       "        vertical-align: middle;\n",
       "    }\n",
       "\n",
       "    .dataframe tbody tr th {\n",
       "        vertical-align: top;\n",
       "    }\n",
       "\n",
       "    .dataframe thead th {\n",
       "        text-align: right;\n",
       "    }\n",
       "</style>\n",
       "<table border=\"1\" class=\"dataframe\">\n",
       "  <thead>\n",
       "    <tr style=\"text-align: right;\">\n",
       "      <th></th>\n",
       "      <th>survived</th>\n",
       "      <th>pclass</th>\n",
       "      <th>sex</th>\n",
       "      <th>age</th>\n",
       "      <th>sibsp</th>\n",
       "      <th>parch</th>\n",
       "      <th>fare</th>\n",
       "      <th>embarked</th>\n",
       "      <th>class</th>\n",
       "      <th>who</th>\n",
       "      <th>adult_male</th>\n",
       "      <th>deck</th>\n",
       "      <th>embark_town</th>\n",
       "      <th>alive</th>\n",
       "      <th>alone</th>\n",
       "      <th>gender</th>\n",
       "    </tr>\n",
       "  </thead>\n",
       "  <tbody>\n",
       "    <tr>\n",
       "      <td>0</td>\n",
       "      <td>0</td>\n",
       "      <td>3</td>\n",
       "      <td>male</td>\n",
       "      <td>22.0</td>\n",
       "      <td>1</td>\n",
       "      <td>0</td>\n",
       "      <td>7.2500</td>\n",
       "      <td>S</td>\n",
       "      <td>Third</td>\n",
       "      <td>man</td>\n",
       "      <td>True</td>\n",
       "      <td>NaN</td>\n",
       "      <td>Southampton</td>\n",
       "      <td>no</td>\n",
       "      <td>False</td>\n",
       "      <td>m</td>\n",
       "    </tr>\n",
       "    <tr>\n",
       "      <td>1</td>\n",
       "      <td>1</td>\n",
       "      <td>1</td>\n",
       "      <td>female</td>\n",
       "      <td>38.0</td>\n",
       "      <td>1</td>\n",
       "      <td>0</td>\n",
       "      <td>71.2833</td>\n",
       "      <td>C</td>\n",
       "      <td>First</td>\n",
       "      <td>woman</td>\n",
       "      <td>False</td>\n",
       "      <td>C</td>\n",
       "      <td>Cherbourg</td>\n",
       "      <td>yes</td>\n",
       "      <td>False</td>\n",
       "      <td>f</td>\n",
       "    </tr>\n",
       "    <tr>\n",
       "      <td>2</td>\n",
       "      <td>1</td>\n",
       "      <td>3</td>\n",
       "      <td>female</td>\n",
       "      <td>26.0</td>\n",
       "      <td>0</td>\n",
       "      <td>0</td>\n",
       "      <td>7.9250</td>\n",
       "      <td>S</td>\n",
       "      <td>Third</td>\n",
       "      <td>woman</td>\n",
       "      <td>False</td>\n",
       "      <td>NaN</td>\n",
       "      <td>Southampton</td>\n",
       "      <td>yes</td>\n",
       "      <td>True</td>\n",
       "      <td>f</td>\n",
       "    </tr>\n",
       "    <tr>\n",
       "      <td>3</td>\n",
       "      <td>1</td>\n",
       "      <td>1</td>\n",
       "      <td>female</td>\n",
       "      <td>35.0</td>\n",
       "      <td>1</td>\n",
       "      <td>0</td>\n",
       "      <td>53.1000</td>\n",
       "      <td>S</td>\n",
       "      <td>First</td>\n",
       "      <td>woman</td>\n",
       "      <td>False</td>\n",
       "      <td>C</td>\n",
       "      <td>Southampton</td>\n",
       "      <td>yes</td>\n",
       "      <td>False</td>\n",
       "      <td>f</td>\n",
       "    </tr>\n",
       "    <tr>\n",
       "      <td>4</td>\n",
       "      <td>0</td>\n",
       "      <td>3</td>\n",
       "      <td>male</td>\n",
       "      <td>35.0</td>\n",
       "      <td>0</td>\n",
       "      <td>0</td>\n",
       "      <td>8.0500</td>\n",
       "      <td>S</td>\n",
       "      <td>Third</td>\n",
       "      <td>man</td>\n",
       "      <td>True</td>\n",
       "      <td>NaN</td>\n",
       "      <td>Southampton</td>\n",
       "      <td>no</td>\n",
       "      <td>True</td>\n",
       "      <td>m</td>\n",
       "    </tr>\n",
       "  </tbody>\n",
       "</table>\n",
       "</div>"
      ],
      "text/plain": [
       "   survived  pclass     sex   age  sibsp  parch     fare embarked  class  \\\n",
       "0         0       3    male  22.0      1      0   7.2500        S  Third   \n",
       "1         1       1  female  38.0      1      0  71.2833        C  First   \n",
       "2         1       3  female  26.0      0      0   7.9250        S  Third   \n",
       "3         1       1  female  35.0      1      0  53.1000        S  First   \n",
       "4         0       3    male  35.0      0      0   8.0500        S  Third   \n",
       "\n",
       "     who  adult_male deck  embark_town alive  alone gender  \n",
       "0    man        True  NaN  Southampton    no  False      m  \n",
       "1  woman       False    C    Cherbourg   yes  False      f  \n",
       "2  woman       False  NaN  Southampton   yes   True      f  \n",
       "3  woman       False    C  Southampton   yes  False      f  \n",
       "4    man        True  NaN  Southampton    no   True      m  "
      ]
     },
     "execution_count": 599,
     "metadata": {},
     "output_type": "execute_result"
    }
   ],
   "source": [
    "# Splitting the column\n",
    "titanic['gender'] = titanic.sex.str[0]\n",
    "\n",
    "# OR \n",
    "# titanic.sex.str.split(';')\n",
    "# titanic.sex.str.get(0)\n",
    "titanic.head()"
   ]
  },
  {
   "cell_type": "code",
   "execution_count": 602,
   "metadata": {},
   "outputs": [
    {
     "data": {
      "text/plain": [
       "[Youth, Youth, NaN, YoungAdult, Youth, ..., YoungAdult, NaN, Senior, Senior, YoungAdult]\n",
       "Length: 12\n",
       "Categories (4, object): [Youth < YoungAdult < MiddleAged < Senior]"
      ]
     },
     "execution_count": 602,
     "metadata": {},
     "output_type": "execute_result"
    }
   ],
   "source": [
    "# Set the Bins\n",
    "ages = [20, 22, 1000, 27, 21, 23, 37, 31, 100, 45, 41, 32]\n",
    "bins = [10, 25, 35, 40, 60]\n",
    "cats = pd.cut(ages, bins, labels = ['Youth', 'YoungAdult', 'MiddleAged', 'Senior'], right = False)\n",
    "cats"
   ]
  },
  {
   "cell_type": "code",
   "execution_count": 37,
   "metadata": {},
   "outputs": [
    {
     "data": {
      "text/html": [
       "<div>\n",
       "<style scoped>\n",
       "    .dataframe tbody tr th:only-of-type {\n",
       "        vertical-align: middle;\n",
       "    }\n",
       "\n",
       "    .dataframe tbody tr th {\n",
       "        vertical-align: top;\n",
       "    }\n",
       "\n",
       "    .dataframe thead th {\n",
       "        text-align: right;\n",
       "    }\n",
       "</style>\n",
       "<table border=\"1\" class=\"dataframe\">\n",
       "  <thead>\n",
       "    <tr style=\"text-align: right;\">\n",
       "      <th></th>\n",
       "      <th>total_bill</th>\n",
       "      <th>tip</th>\n",
       "      <th>sex</th>\n",
       "      <th>smoker</th>\n",
       "      <th>day</th>\n",
       "      <th>time</th>\n",
       "      <th>size</th>\n",
       "      <th>tip_pct</th>\n",
       "    </tr>\n",
       "  </thead>\n",
       "  <tbody>\n",
       "    <tr>\n",
       "      <td>0</td>\n",
       "      <td>16.99</td>\n",
       "      <td>1.01</td>\n",
       "      <td>Female</td>\n",
       "      <td>No</td>\n",
       "      <td>Sun</td>\n",
       "      <td>Dinner</td>\n",
       "      <td>2</td>\n",
       "      <td>5.944673</td>\n",
       "    </tr>\n",
       "    <tr>\n",
       "      <td>1</td>\n",
       "      <td>10.34</td>\n",
       "      <td>1.66</td>\n",
       "      <td>Male</td>\n",
       "      <td>No</td>\n",
       "      <td>Sun</td>\n",
       "      <td>Dinner</td>\n",
       "      <td>3</td>\n",
       "      <td>16.054159</td>\n",
       "    </tr>\n",
       "    <tr>\n",
       "      <td>2</td>\n",
       "      <td>21.01</td>\n",
       "      <td>3.50</td>\n",
       "      <td>Male</td>\n",
       "      <td>No</td>\n",
       "      <td>Sun</td>\n",
       "      <td>Dinner</td>\n",
       "      <td>3</td>\n",
       "      <td>16.658734</td>\n",
       "    </tr>\n",
       "    <tr>\n",
       "      <td>3</td>\n",
       "      <td>23.68</td>\n",
       "      <td>3.31</td>\n",
       "      <td>Male</td>\n",
       "      <td>No</td>\n",
       "      <td>Sun</td>\n",
       "      <td>Dinner</td>\n",
       "      <td>2</td>\n",
       "      <td>13.978041</td>\n",
       "    </tr>\n",
       "    <tr>\n",
       "      <td>4</td>\n",
       "      <td>24.59</td>\n",
       "      <td>3.61</td>\n",
       "      <td>Female</td>\n",
       "      <td>No</td>\n",
       "      <td>Sun</td>\n",
       "      <td>Dinner</td>\n",
       "      <td>4</td>\n",
       "      <td>14.680765</td>\n",
       "    </tr>\n",
       "  </tbody>\n",
       "</table>\n",
       "</div>"
      ],
      "text/plain": [
       "   total_bill   tip     sex smoker  day    time  size    tip_pct\n",
       "0       16.99  1.01  Female     No  Sun  Dinner     2   5.944673\n",
       "1       10.34  1.66    Male     No  Sun  Dinner     3  16.054159\n",
       "2       21.01  3.50    Male     No  Sun  Dinner     3  16.658734\n",
       "3       23.68  3.31    Male     No  Sun  Dinner     2  13.978041\n",
       "4       24.59  3.61  Female     No  Sun  Dinner     4  14.680765"
      ]
     },
     "execution_count": 37,
     "metadata": {},
     "output_type": "execute_result"
    }
   ],
   "source": [
    "air['Sum'] = air['Ozone'] + air['Solar.R'] + air['Wind']\n",
    "tips.head()"
   ]
  },
  {
   "cell_type": "markdown",
   "metadata": {},
   "source": [
    "# -------------------- Visualization with Matplotlib --------------------"
   ]
  },
  {
   "cell_type": "markdown",
   "metadata": {},
   "source": [
    "## 1. General Matplotlib Tips"
   ]
  },
  {
   "cell_type": "code",
   "execution_count": 9,
   "metadata": {},
   "outputs": [
    {
     "name": "stdout",
     "output_type": "stream",
     "text": [
      "   Ozone  Solar.R  Wind  Temp  Month  Day\n",
      "0   41.0    190.0   7.4    67      5    1\n",
      "1   36.0    118.0   8.0    72      5    2\n",
      "2   12.0    149.0  12.6    74      5    3\n",
      "3   18.0    313.0  11.5    62      5    4\n",
      "4    NaN      NaN  14.3    56      5    5\n"
     ]
    },
    {
     "data": {
      "image/png": "[encoded data removed]",
      "text/plain": [
       "<Figure size 432x288 with 1 Axes>"
      ]
     },
     "metadata": {
      "needs_background": "light"
     },
     "output_type": "display_data"
    },
    {
     "data": {
      "image/png": "[encoded data removed]",
      "text/plain": [
       "<Figure size 432x288 with 1 Axes>"
      ]
     },
     "metadata": {
      "needs_background": "light"
     },
     "output_type": "display_data"
    },
    {
     "data": {
      "image/png": "[encoded data removed]",
      "text/plain": [
       "<Figure size 432x288 with 1 Axes>"
      ]
     },
     "metadata": {
      "needs_background": "light"
     },
     "output_type": "display_data"
    },
    {
     "data": {
      "image/png": "[encoded data removed]",
      "text/plain": [
       "<Figure size 432x288 with 1 Axes>"
      ]
     },
     "metadata": {
      "needs_background": "light"
     },
     "output_type": "display_data"
    }
   ],
   "source": [
    "print(air.head())\n",
    "May = air[air.Month==5]\n",
    "May.plot(kind='line',x='Day',y='Temp')\n",
    "May.plot(kind='scatter',x='Day',y='Temp')\n",
    "May.plot(kind='hist',y='Temp')\n",
    "May.plot(kind='box',y='Temp')\n",
    "\n",
    "plt.tight_layout()\n",
    "plt.show()"
   ]
  },
  {
   "cell_type": "code",
   "execution_count": 14,
   "metadata": {},
   "outputs": [
    {
     "name": "stderr",
     "output_type": "stream",
     "text": [
      "/Users/xuduo/opt/anaconda3/lib/python3.7/site-packages/ipykernel_launcher.py:2: UserWarning: Boolean Series key will be reindexed to match DataFrame index.\n",
      "  \n"
     ]
    },
    {
     "data": {
      "text/plain": [
       "<matplotlib.axes._subplots.AxesSubplot at 0x7f81ab016dd0>"
      ]
     },
     "execution_count": 14,
     "metadata": {},
     "output_type": "execute_result"
    },
    {
     "data": {
      "image/png": "[encoded data removed]",
      "text/plain": [
       "<Figure size 432x288 with 1 Axes>"
      ]
     },
     "metadata": {
      "needs_background": "light"
     },
     "output_type": "display_data"
    }
   ],
   "source": [
    "# Draw one plot with two lines\n",
    "df = May[['Ozone','Wind']][air.Day<25]\n",
    "df = df.dropna(axis='rows')\n",
    "df.plot()"
   ]
  },
  {
   "cell_type": "code",
   "execution_count": 188,
   "metadata": {},
   "outputs": [
    {
     "data": {
      "image/png": "[encoded data removed]",
      "text/plain": [
       "<Figure size 432x288 with 1 Axes>"
      ]
     },
     "metadata": {
      "needs_background": "light"
     },
     "output_type": "display_data"
    }
   ],
   "source": [
    "# 1. General Matplotlib Tips\n",
    "x = np.linspace(0,10,160)\n",
    "\n",
    "plt.figure()\n",
    "plt.plot(x, np.sin(x),'-')\n",
    "plt.plot(x, np.cos(x),'--')\n",
    "\n",
    "# plt.figure().savefig('myplot.png') -> saving image\n",
    "# fig.canvas.get_supported_filetypes() -> check the file format\n",
    "from IPython.display import Image\n",
    "# Image('myplot.png') -> import the image"
   ]
  },
  {
   "cell_type": "code",
   "execution_count": 197,
   "metadata": {},
   "outputs": [
    {
     "data": {
      "image/png": "[encoded data removed]",
      "text/plain": [
       "<Figure size 432x288 with 2 Axes>"
      ]
     },
     "metadata": {
      "needs_background": "light"
     },
     "output_type": "display_data"
    }
   ],
   "source": [
    "# 2. Multiple Subplots\n",
    "fig = plt.figure() # create a plot figure -> need to write at the beginning\n",
    "\n",
    "plt.subplot(2,3,1) # (row,column,index)\n",
    "plt.plot(x,np.sin(x))\n",
    "\n",
    "plt.subplot(2,1,2)\n",
    "plt.plot(x,np.cos(x),'--g')\n",
    "\n",
    "fig.subplots_adjust(hspace=0.5,wspace=0.5)"
   ]
  },
  {
   "cell_type": "code",
   "execution_count": 215,
   "metadata": {},
   "outputs": [
    {
     "data": {
      "image/png": "[encoded data removed]",
      "text/plain": [
       "<Figure size 432x288 with 2 Axes>"
      ]
     },
     "metadata": {
      "needs_background": "light"
     },
     "output_type": "display_data"
    }
   ],
   "source": [
    "# More advanced method\n",
    "fig,ax = plt.subplots(2,sharey=True) # sharey -> the properities of x & y will share in subplots\n",
    "\n",
    "weather['Temperature'].resample(\"D\").mean().plot(ax=ax[0])\n",
    "weather['DewPoint'].resample(\"D\").mean().plot(ax=ax[1])\n",
    "\n",
    "birthday = pd.to_datetime('2010-5-15')\n",
    "Halloween = pd.to_datetime('2010-10-31')\n",
    "\n",
    "ax[0].legend(['Temperature'],loc=2)\n",
    "ax[0].get_xticklabels()[4].set(weight = 'heavy',color='red')\n",
    "ax[0].axvline(birthday, color = 'red')\n",
    "\n",
    "ax[1].legend(['DewPoint'],loc=2)\n",
    "ax[1].get_xticklabels()[10].set(weight = 'heavy',color='red')\n",
    "ax[1].axvline(Halloween, color = 'red')\n",
    "\n",
    "fig.tight_layout() # remove the overlap from subplots"
   ]
  },
  {
   "cell_type": "code",
   "execution_count": 174,
   "metadata": {},
   "outputs": [
    {
     "data": {
      "text/plain": [
       "[<matplotlib.lines.Line2D at 0x7fa379941d50>]"
      ]
     },
     "execution_count": 174,
     "metadata": {},
     "output_type": "execute_result"
    },
    {
     "data": {
      "image/png": "[encoded data removed]",
      "text/plain": [
       "<Figure size 432x288 with 1 Axes>"
      ]
     },
     "metadata": {
      "needs_background": "light"
     },
     "output_type": "display_data"
    }
   ],
   "source": [
    "# 3. Adjusting the Plot: Line Colors and Styles\n",
    "plt.plot(x, x, color='green') # or 'g'\n",
    "# green -> 'g'\n",
    "# red -> 'r'\n",
    "# black -> 'k'\n",
    "# cyan -> 'c'\n",
    "\n",
    "plt.plot(x, x+1, linestyle='dashed') \n",
    "# solid -> '-'\n",
    "# dashed -> '--'\n",
    "# dashdot -> '-.'\n",
    "# dotted -> ':'\n",
    "\n",
    "plt.plot(x, x+2,'--r')\n",
    "\n"
   ]
  },
  {
   "cell_type": "code",
   "execution_count": 59,
   "metadata": {},
   "outputs": [
    {
     "data": {
      "text/plain": [
       "[-1, 12, -2, 2]"
      ]
     },
     "execution_count": 59,
     "metadata": {},
     "output_type": "execute_result"
    },
    {
     "data": {
      "image/png": "[encoded data removed]",
      "text/plain": [
       "<Figure size 432x288 with 1 Axes>"
      ]
     },
     "metadata": {
      "needs_background": "light"
     },
     "output_type": "display_data"
    }
   ],
   "source": [
    "# 4. Adjusting the plot: Alexs Limites\n",
    "plt.plot(x, np.sin(x))\n",
    "\n",
    "# Method 1:\n",
    "plt.xlim(-1,12)\n",
    "# can do plt.xlim(10,0) for reversing the order of the arguments\n",
    "plt.ylim(-2,2)\n",
    "\n",
    "# Method 2:\n",
    "plt.axis([-1,12,-2,2]) # plt.axis([xmin,xmax,ymin,ymax])\n",
    "\n",
    "# plt.axis('tight') -> Automatically tighten the bounds\n",
    "# plt.axis('equal') -> Centered the image"
   ]
  },
  {
   "cell_type": "code",
   "execution_count": 60,
   "metadata": {},
   "outputs": [
    {
     "data": {
      "text/plain": [
       "Text(0, 0.5, 'sin(x)/cos(x)')"
      ]
     },
     "execution_count": 60,
     "metadata": {},
     "output_type": "execute_result"
    },
    {
     "data": {
      "image/png": "[encoded data removed]",
      "text/plain": [
       "<Figure size 432x288 with 1 Axes>"
      ]
     },
     "metadata": {
      "needs_background": "light"
     },
     "output_type": "display_data"
    }
   ],
   "source": [
    "# 5. Labeling Plots\n",
    "plt.plot(x, np.sin(x),'-g',label='sin(x)')\n",
    "plt.plot(x, np.cos(x),':b',label='cos(x)')\n",
    "\n",
    "plt.legend(loc='upper left',\n",
    "          frameon=True, # whether need the legend frame\n",
    "         framealpha=0.8, # transparency\n",
    "         borderpad=3) # legend frame size)\n",
    "\n",
    "plt.title('Sin & Cos Curves')\n",
    "plt.xlabel('x')\n",
    "plt.ylabel('sin(x)/cos(x)')"
   ]
  },
  {
   "cell_type": "code",
   "execution_count": 96,
   "metadata": {},
   "outputs": [
    {
     "data": {
      "text/plain": [
       "Text(6.5, -0.8, 'local minimum')"
      ]
     },
     "execution_count": 96,
     "metadata": {},
     "output_type": "execute_result"
    },
    {
     "data": {
      "image/png": "[encoded data removed]",
      "text/plain": [
       "<Figure size 864x288 with 1 Axes>"
      ]
     },
     "metadata": {
      "needs_background": "light"
     },
     "output_type": "display_data"
    }
   ],
   "source": [
    "# 6. Text, arrows and Annotation\n",
    "fig,ax = plt.subplots(figsize=(12,4))\n",
    "\n",
    "plt.plot(x, np.sin(x))\n",
    "\n",
    "# Add label to the plot\n",
    "style = dict(size=20,color='red')\n",
    "ax.text(1.5,0,\"First\", **style)\n",
    "ax.text(4,0,\"Second\", **style)\n",
    "ax.text(8,0,\"Third\", **style)\n",
    "\n",
    "# Label the axes\n",
    "ax.set(title='Three parts',ylabel='Sin(x)')\n",
    "\n",
    "# Arrows and annotation\n",
    "ax.annotate('local maximum',xy=(1.5,1),xytext=(3,0.8),size = 15, arrowprops = dict(facecolor='black',shrink=0.05)) \n",
    "ax.annotate('local minimum',xy=(4.5,-1),xytext=(6.5,-0.8),arrowprops=dict(arrowstyle='->',connectionstyle='angle3,angleA=30,angleB=-60'))\n",
    "# angle3 -> make curved arrow\n",
    "# angleA=0,angleB=-90 -> fold the arrow"
   ]
  },
  {
   "cell_type": "markdown",
   "metadata": {},
   "source": [
    "## 2. Simple Scatter Plots"
   ]
  },
  {
   "cell_type": "code",
   "execution_count": 116,
   "metadata": {},
   "outputs": [
    {
     "data": {
      "image/png": "[encoded data removed]",
      "text/plain": [
       "<Figure size 864x648 with 5 Axes>"
      ]
     },
     "metadata": {
      "needs_background": "light"
     },
     "output_type": "display_data"
    }
   ],
   "source": [
    "x = np.linspace(0,10,20)\n",
    "y = np.sin(x)\n",
    "\n",
    "fig,ax = plt.subplots(figsize=(12,9))\n",
    "\n",
    "# Scatter Plots with plt.scatter\n",
    "plt.subplot(4,1,1)\n",
    "plt.scatter(x,y,marker='o')\n",
    "\n",
    "# Combining line and point markers\n",
    "plt.subplot(4,1,2)\n",
    "plt.plot(x, y, '--xr') \n",
    "# line='--' & marker='>' & color='g'\n",
    "# marker = ['o','.',',','x','v','^','<','>','s','d']\n",
    "# markersize=8,markeredgewidth=3,linewidth=3,markeredgecolor='red', markerfacecolor = 'yellow')\n",
    "plt.ylim(-1.2,1.2)\n",
    "\n",
    "plt.subplot(4,1,3)\n",
    "plt.scatter(x,y,c=y,s=50*x,alpha=0.3,cmap='Blues')\n",
    "# https://matplotlib.org/gallery/color/colormap_reference.html#sphx-glr-gallery-color-colormap-reference-py\n",
    "plt.colorbar() # show color scale\n",
    "\n",
    "plt.subplot(4,1,4)\n",
    "plt.scatter(x,y,c=\"g\",alpha=0.3)\n",
    "label = [str(i) for i in np.around(y,1)] \n",
    "for label, x, y in zip(label,x,y): # Label each point\n",
    "    plt.annotate(label,xy=(x,y), xytext=(5, -10),textcoords='offset points')"
   ]
  },
  {
   "cell_type": "code",
   "execution_count": 109,
   "metadata": {},
   "outputs": [
    {
     "data": {
      "image/png": "[encoded data removed]",
      "text/plain": [
       "<Figure size 432x288 with 1 Axes>"
      ]
     },
     "metadata": {
      "needs_background": "light"
     },
     "output_type": "display_data"
    }
   ],
   "source": [
    "plt.subplot(4,1,4)\n",
    "plt.scatter(x,y,c=\"g\",alpha=0.3)\n",
    "\n",
    "label = [str(i) for i in np.around(y,1)] \n",
    "for label, x, y in zip(label,x,y):\n",
    "    plt.annotate(label,xy=(x,y), )"
   ]
  },
  {
   "cell_type": "markdown",
   "metadata": {},
   "source": [
    "## Bar Chart"
   ]
  },
  {
   "cell_type": "code",
   "execution_count": 63,
   "metadata": {},
   "outputs": [
    {
     "data": {
      "text/html": [
       "<div>\n",
       "<style scoped>\n",
       "    .dataframe tbody tr th:only-of-type {\n",
       "        vertical-align: middle;\n",
       "    }\n",
       "\n",
       "    .dataframe tbody tr th {\n",
       "        vertical-align: top;\n",
       "    }\n",
       "\n",
       "    .dataframe thead th {\n",
       "        text-align: right;\n",
       "    }\n",
       "</style>\n",
       "<table border=\"1\" class=\"dataframe\">\n",
       "  <thead>\n",
       "    <tr style=\"text-align: right;\">\n",
       "      <th></th>\n",
       "      <th>day</th>\n",
       "      <th>total_bill</th>\n",
       "    </tr>\n",
       "  </thead>\n",
       "  <tbody>\n",
       "    <tr>\n",
       "      <td>0</td>\n",
       "      <td>Fri</td>\n",
       "      <td>325.88</td>\n",
       "    </tr>\n",
       "    <tr>\n",
       "      <td>1</td>\n",
       "      <td>Sat</td>\n",
       "      <td>1778.40</td>\n",
       "    </tr>\n",
       "    <tr>\n",
       "      <td>2</td>\n",
       "      <td>Sun</td>\n",
       "      <td>1627.16</td>\n",
       "    </tr>\n",
       "    <tr>\n",
       "      <td>3</td>\n",
       "      <td>Thur</td>\n",
       "      <td>1096.33</td>\n",
       "    </tr>\n",
       "  </tbody>\n",
       "</table>\n",
       "</div>"
      ],
      "text/plain": [
       "    day  total_bill\n",
       "0   Fri      325.88\n",
       "1   Sat     1778.40\n",
       "2   Sun     1627.16\n",
       "3  Thur     1096.33"
      ]
     },
     "execution_count": 63,
     "metadata": {},
     "output_type": "execute_result"
    }
   ],
   "source": [
    "tips_bar = tips.pivot_table(values='total_bill',index=['day'],aggfunc='sum').reset_index()\n",
    "tips_bar.head()"
   ]
  },
  {
   "cell_type": "code",
   "execution_count": 68,
   "metadata": {},
   "outputs": [
    {
     "data": {
      "text/plain": [
       "<BarContainer object of 4 artists>"
      ]
     },
     "execution_count": 68,
     "metadata": {},
     "output_type": "execute_result"
    },
    {
     "data": {
      "image/png": "[encoded data removed]",
      "text/plain": [
       "<Figure size 432x288 with 1 Axes>"
      ]
     },
     "metadata": {
      "needs_background": "light"
     },
     "output_type": "display_data"
    }
   ],
   "source": [
    "plt.bar(tips_bar.day, tips_bar.total_bill, width = 0.8)"
   ]
  },
  {
   "cell_type": "code",
   "execution_count": null,
   "metadata": {},
   "outputs": [],
   "source": []
  },
  {
   "cell_type": "code",
   "execution_count": null,
   "metadata": {},
   "outputs": [],
   "source": []
  },
  {
   "cell_type": "markdown",
   "metadata": {},
   "source": [
    "## 3. Histograms, Binnings, and Density"
   ]
  },
  {
   "cell_type": "code",
   "execution_count": 2,
   "metadata": {},
   "outputs": [
    {
     "data": {
      "text/html": [
       "<div>\n",
       "<style scoped>\n",
       "    .dataframe tbody tr th:only-of-type {\n",
       "        vertical-align: middle;\n",
       "    }\n",
       "\n",
       "    .dataframe tbody tr th {\n",
       "        vertical-align: top;\n",
       "    }\n",
       "\n",
       "    .dataframe thead th {\n",
       "        text-align: right;\n",
       "    }\n",
       "</style>\n",
       "<table border=\"1\" class=\"dataframe\">\n",
       "  <thead>\n",
       "    <tr style=\"text-align: right;\">\n",
       "      <th></th>\n",
       "      <th>total_bill</th>\n",
       "      <th>tip</th>\n",
       "      <th>sex</th>\n",
       "      <th>smoker</th>\n",
       "      <th>day</th>\n",
       "      <th>time</th>\n",
       "      <th>size</th>\n",
       "      <th>tip_pct</th>\n",
       "    </tr>\n",
       "  </thead>\n",
       "  <tbody>\n",
       "    <tr>\n",
       "      <td>0</td>\n",
       "      <td>16.99</td>\n",
       "      <td>1.01</td>\n",
       "      <td>Female</td>\n",
       "      <td>No</td>\n",
       "      <td>Sun</td>\n",
       "      <td>Dinner</td>\n",
       "      <td>2</td>\n",
       "      <td>5.944673</td>\n",
       "    </tr>\n",
       "    <tr>\n",
       "      <td>1</td>\n",
       "      <td>10.34</td>\n",
       "      <td>1.66</td>\n",
       "      <td>Male</td>\n",
       "      <td>No</td>\n",
       "      <td>Sun</td>\n",
       "      <td>Dinner</td>\n",
       "      <td>3</td>\n",
       "      <td>16.054159</td>\n",
       "    </tr>\n",
       "    <tr>\n",
       "      <td>2</td>\n",
       "      <td>21.01</td>\n",
       "      <td>3.50</td>\n",
       "      <td>Male</td>\n",
       "      <td>No</td>\n",
       "      <td>Sun</td>\n",
       "      <td>Dinner</td>\n",
       "      <td>3</td>\n",
       "      <td>16.658734</td>\n",
       "    </tr>\n",
       "    <tr>\n",
       "      <td>3</td>\n",
       "      <td>23.68</td>\n",
       "      <td>3.31</td>\n",
       "      <td>Male</td>\n",
       "      <td>No</td>\n",
       "      <td>Sun</td>\n",
       "      <td>Dinner</td>\n",
       "      <td>2</td>\n",
       "      <td>13.978041</td>\n",
       "    </tr>\n",
       "    <tr>\n",
       "      <td>4</td>\n",
       "      <td>24.59</td>\n",
       "      <td>3.61</td>\n",
       "      <td>Female</td>\n",
       "      <td>No</td>\n",
       "      <td>Sun</td>\n",
       "      <td>Dinner</td>\n",
       "      <td>4</td>\n",
       "      <td>14.680765</td>\n",
       "    </tr>\n",
       "  </tbody>\n",
       "</table>\n",
       "</div>"
      ],
      "text/plain": [
       "   total_bill   tip     sex smoker  day    time  size    tip_pct\n",
       "0       16.99  1.01  Female     No  Sun  Dinner     2   5.944673\n",
       "1       10.34  1.66    Male     No  Sun  Dinner     3  16.054159\n",
       "2       21.01  3.50    Male     No  Sun  Dinner     3  16.658734\n",
       "3       23.68  3.31    Male     No  Sun  Dinner     2  13.978041\n",
       "4       24.59  3.61  Female     No  Sun  Dinner     4  14.680765"
      ]
     },
     "execution_count": 2,
     "metadata": {},
     "output_type": "execute_result"
    }
   ],
   "source": [
    "tips.head()"
   ]
  },
  {
   "cell_type": "code",
   "execution_count": 3,
   "metadata": {},
   "outputs": [
    {
     "data": {
      "text/plain": [
       "(array([0.00600933, 0.03605596, 0.05837631, 0.04378224, 0.02661273,\n",
       "        0.01631103, 0.0103017 , 0.00600933, 0.00257543, 0.0034339 ]),\n",
       " array([ 3.07 ,  7.844, 12.618, 17.392, 22.166, 26.94 , 31.714, 36.488,\n",
       "        41.262, 46.036, 50.81 ]),\n",
       " <a list of 10 Patch objects>)"
      ]
     },
     "execution_count": 3,
     "metadata": {},
     "output_type": "execute_result"
    },
    {
     "data": {
      "image/png": "[encoded data removed]",
      "text/plain": [
       "<Figure size 432x288 with 1 Axes>"
      ]
     },
     "metadata": {
      "needs_background": "light"
     },
     "output_type": "display_data"
    }
   ],
   "source": [
    "plt.hist(tips.total_bill,bins=10,density=True,color='steelblue',edgecolor='black')\n",
    "# density=True -> normalized"
   ]
  },
  {
   "cell_type": "code",
   "execution_count": 7,
   "metadata": {},
   "outputs": [
    {
     "data": {
      "text/plain": [
       "(array([0.01867031, 0.0359745 , 0.03005464, 0.01229508, 0.00865209,\n",
       "        0.00227687, 0.00182149, 0.00045537, 0.00045537, 0.00045537]),\n",
       " array([ 10.,  19.,  28.,  37.,  46.,  55.,  64.,  73.,  82.,  91., 100.]),\n",
       " <a list of 1 Patch objects>)"
      ]
     },
     "execution_count": 7,
     "metadata": {},
     "output_type": "execute_result"
    },
    {
     "data": {
      "image/png": "[encoded data removed]",
      "text/plain": [
       "<Figure size 432x288 with 1 Axes>"
      ]
     },
     "metadata": {
      "needs_background": "light"
     },
     "output_type": "display_data"
    }
   ],
   "source": [
    "# histtype & alpha\n",
    "kwargs = dict(histtype='stepfilled',alpha=0.3,density=True,bins=10, edgecolor = 'black')\n",
    "\n",
    "plt.hist(tips.total_bill,**kwargs)\n",
    "plt.hist(tips.tip*10,**kwargs)"
   ]
  },
  {
   "cell_type": "markdown",
   "metadata": {},
   "source": [
    "## 4. Visualization with Seaborn"
   ]
  },
  {
   "cell_type": "code",
   "execution_count": 24,
   "metadata": {},
   "outputs": [
    {
     "name": "stdout",
     "output_type": "stream",
     "text": [
      "   Ozone  Solar.R  Wind  Temp  Month  Day\n",
      "0   41.0    190.0   7.4    67      5    1\n",
      "1   36.0    118.0   8.0    72      5    2\n",
      "2   12.0    149.0  12.6    74      5    3\n",
      "3   18.0    313.0  11.5    62      5    4\n",
      "4    NaN      NaN  14.3    56      5    5 \n",
      "\n",
      "   Ozone  Wind\n",
      "0   41.0   7.4\n",
      "1   36.0   8.0\n",
      "2   12.0  12.6\n",
      "3   18.0  11.5\n",
      "5   28.0  14.9\n"
     ]
    },
    {
     "name": "stderr",
     "output_type": "stream",
     "text": [
      "/Users/xuduo/opt/anaconda3/lib/python3.7/site-packages/ipykernel_launcher.py:2: UserWarning: Boolean Series key will be reindexed to match DataFrame index.\n",
      "  \n"
     ]
    }
   ],
   "source": [
    "print(air.head(),\"\\n\")\n",
    "df = air[air.Month==5][['Ozone','Wind']][air.Day<25]\n",
    "df = df.dropna(axis='rows')\n",
    "print(df.head())"
   ]
  },
  {
   "cell_type": "code",
   "execution_count": 23,
   "metadata": {},
   "outputs": [
    {
     "data": {
      "image/png": "[encoded data removed]",
      "text/plain": [
       "<Figure size 432x288 with 2 Axes>"
      ]
     },
     "metadata": {
      "needs_background": "light"
     },
     "output_type": "display_data"
    }
   ],
   "source": [
    "# Histgrams\n",
    "plt.subplot(2,1,1)\n",
    "for col in df.columns:\n",
    "    plt.hist(df[col],density=True, alpha=0.5)\n",
    "    \n",
    "# KDE -> kernel density estimation\n",
    "for col in df.columns:\n",
    "    sns.kdeplot(df[col],shade=True)\n",
    "\n",
    "# sns.distplot() -> Combine histogram and KDE directly\n",
    "plt.subplot(2,1,2)\n",
    "for col in df.columns:\n",
    "    sns.distplot(df[col])"
   ]
  },
  {
   "cell_type": "code",
   "execution_count": 109,
   "metadata": {},
   "outputs": [
    {
     "data": {
      "text/html": [
       "<div>\n",
       "<style scoped>\n",
       "    .dataframe tbody tr th:only-of-type {\n",
       "        vertical-align: middle;\n",
       "    }\n",
       "\n",
       "    .dataframe tbody tr th {\n",
       "        vertical-align: top;\n",
       "    }\n",
       "\n",
       "    .dataframe thead th {\n",
       "        text-align: right;\n",
       "    }\n",
       "</style>\n",
       "<table border=\"1\" class=\"dataframe\">\n",
       "  <thead>\n",
       "    <tr style=\"text-align: right;\">\n",
       "      <th></th>\n",
       "      <th>total_bill</th>\n",
       "      <th>tip</th>\n",
       "      <th>sex</th>\n",
       "      <th>smoker</th>\n",
       "      <th>day</th>\n",
       "      <th>time</th>\n",
       "      <th>size</th>\n",
       "      <th>tip_pct</th>\n",
       "    </tr>\n",
       "  </thead>\n",
       "  <tbody>\n",
       "    <tr>\n",
       "      <td>0</td>\n",
       "      <td>16.99</td>\n",
       "      <td>1.01</td>\n",
       "      <td>Female</td>\n",
       "      <td>No</td>\n",
       "      <td>Sun</td>\n",
       "      <td>Dinner</td>\n",
       "      <td>2</td>\n",
       "      <td>5.944673</td>\n",
       "    </tr>\n",
       "    <tr>\n",
       "      <td>1</td>\n",
       "      <td>10.34</td>\n",
       "      <td>1.66</td>\n",
       "      <td>Male</td>\n",
       "      <td>No</td>\n",
       "      <td>Sun</td>\n",
       "      <td>Dinner</td>\n",
       "      <td>3</td>\n",
       "      <td>16.054159</td>\n",
       "    </tr>\n",
       "    <tr>\n",
       "      <td>2</td>\n",
       "      <td>21.01</td>\n",
       "      <td>3.50</td>\n",
       "      <td>Male</td>\n",
       "      <td>No</td>\n",
       "      <td>Sun</td>\n",
       "      <td>Dinner</td>\n",
       "      <td>3</td>\n",
       "      <td>16.658734</td>\n",
       "    </tr>\n",
       "    <tr>\n",
       "      <td>3</td>\n",
       "      <td>23.68</td>\n",
       "      <td>3.31</td>\n",
       "      <td>Male</td>\n",
       "      <td>No</td>\n",
       "      <td>Sun</td>\n",
       "      <td>Dinner</td>\n",
       "      <td>2</td>\n",
       "      <td>13.978041</td>\n",
       "    </tr>\n",
       "    <tr>\n",
       "      <td>4</td>\n",
       "      <td>24.59</td>\n",
       "      <td>3.61</td>\n",
       "      <td>Female</td>\n",
       "      <td>No</td>\n",
       "      <td>Sun</td>\n",
       "      <td>Dinner</td>\n",
       "      <td>4</td>\n",
       "      <td>14.680765</td>\n",
       "    </tr>\n",
       "  </tbody>\n",
       "</table>\n",
       "</div>"
      ],
      "text/plain": [
       "   total_bill   tip     sex smoker  day    time  size    tip_pct\n",
       "0       16.99  1.01  Female     No  Sun  Dinner     2   5.944673\n",
       "1       10.34  1.66    Male     No  Sun  Dinner     3  16.054159\n",
       "2       21.01  3.50    Male     No  Sun  Dinner     3  16.658734\n",
       "3       23.68  3.31    Male     No  Sun  Dinner     2  13.978041\n",
       "4       24.59  3.61  Female     No  Sun  Dinner     4  14.680765"
      ]
     },
     "execution_count": 109,
     "metadata": {},
     "output_type": "execute_result"
    }
   ],
   "source": [
    "tips.head()"
   ]
  },
  {
   "cell_type": "code",
   "execution_count": 110,
   "metadata": {},
   "outputs": [
    {
     "data": {
      "text/plain": [
       "<seaborn.axisgrid.PairGrid at 0x7ffb08fcf9d0>"
      ]
     },
     "execution_count": 110,
     "metadata": {},
     "output_type": "execute_result"
    },
    {
     "data": {
      "image/png": "[encoded data removed]",
      "text/plain": [
       "<Figure size 612.625x540 with 12 Axes>"
      ]
     },
     "metadata": {
      "needs_background": "light"
     },
     "output_type": "display_data"
    }
   ],
   "source": [
    "# Pair plots -> only for numeric\n",
    "tips2 = tips[['total_bill','tip','sex','day','size']]\n",
    "sns.pairplot(tips2,hue='sex')"
   ]
  },
  {
   "cell_type": "code",
   "execution_count": 30,
   "metadata": {},
   "outputs": [
    {
     "data": {
      "text/plain": [
       "<seaborn.axisgrid.FacetGrid at 0x7ffb19b6afd0>"
      ]
     },
     "execution_count": 30,
     "metadata": {},
     "output_type": "execute_result"
    },
    {
     "data": {
      "image/png": "[encoded data removed]",
      "text/plain": [
       "<Figure size 432x432 with 4 Axes>"
      ]
     },
     "metadata": {
      "needs_background": "light"
     },
     "output_type": "display_data"
    }
   ],
   "source": [
    "# Faceted histograms - histograms of subsets\n",
    "grid = sns.FacetGrid(tips, row='sex',col='time',margin_titles=True)\n",
    "grid.map(plt.hist, 'total_bill',bins=np.linspace(0,40,15))\n",
    "\n",
    "# grid.map(plt.scatter,'tip','total_bill')\n"
   ]
  },
  {
   "cell_type": "code",
   "execution_count": 43,
   "metadata": {},
   "outputs": [
    {
     "data": {
      "image/png": "[encoded data removed]",
      "text/plain": [
       "<Figure size 429.375x360 with 1 Axes>"
      ]
     },
     "metadata": {},
     "output_type": "display_data"
    }
   ],
   "source": [
    "# Factor plots for box\n",
    "with sns.axes_style(style='ticks'): \n",
    "    g=sns.factorplot('day','total_bill','sex',data=tips,kind='box')\n",
    "    g.set_axis_labels('Day','Total Bill')\n",
    "# style = 'ticks' / 'white'\n",
    "\n",
    "# OR\n",
    "# sns.factorplot('day','total_bill','sex',data=tips,kind='box')"
   ]
  },
  {
   "cell_type": "code",
   "execution_count": 71,
   "metadata": {},
   "outputs": [
    {
     "data": {
      "text/plain": [
       "<seaborn.axisgrid.FacetGrid at 0x7ffb1d62ba50>"
      ]
     },
     "execution_count": 71,
     "metadata": {},
     "output_type": "execute_result"
    },
    {
     "data": {
      "image/png": "[encoded data removed]",
      "text/plain": [
       "<Figure size 360x360 with 1 Axes>"
      ]
     },
     "metadata": {
      "needs_background": "light"
     },
     "output_type": "display_data"
    },
    {
     "data": {
      "image/png": "[encoded data removed]",
      "text/plain": [
       "<Figure size 432.625x360 with 1 Axes>"
      ]
     },
     "metadata": {
      "needs_background": "light"
     },
     "output_type": "display_data"
    }
   ],
   "source": [
    "# Factor plots for bar\n",
    "\n",
    "sns.factorplot(x='day',data=tips,kind='count')\n",
    "sns.factorplot(x='day',data=tips,kind='count',hue='sex')"
   ]
  },
  {
   "cell_type": "code",
   "execution_count": 34,
   "metadata": {},
   "outputs": [
    {
     "data": {
      "text/plain": [
       "<seaborn.axisgrid.JointGrid at 0x7ffb1b0676d0>"
      ]
     },
     "execution_count": 34,
     "metadata": {},
     "output_type": "execute_result"
    },
    {
     "data": {
      "image/png": "[encoded data removed]",
      "text/plain": [
       "<Figure size 432x432 with 3 Axes>"
      ]
     },
     "metadata": {
      "needs_background": "light"
     },
     "output_type": "display_data"
    }
   ],
   "source": [
    "# Joint Distributions\n",
    "sns.jointplot('total_bill','tip',data=tips,kind='reg')\n",
    "# kind = 'reg' / 'hex'"
   ]
  },
  {
   "cell_type": "code",
   "execution_count": 78,
   "metadata": {},
   "outputs": [
    {
     "data": {
      "text/plain": [
       "<seaborn.axisgrid.FacetGrid at 0x7ffb015f9790>"
      ]
     },
     "execution_count": 78,
     "metadata": {},
     "output_type": "execute_result"
    },
    {
     "data": {
      "image/png": "[encoded data removed]",
      "text/plain": [
       "<Figure size 360x360 with 1 Axes>"
      ]
     },
     "metadata": {
      "needs_background": "light"
     },
     "output_type": "display_data"
    },
    {
     "data": {
      "image/png": "[encoded data removed]",
      "text/plain": [
       "<Figure size 360x360 with 1 Axes>"
      ]
     },
     "metadata": {
      "needs_background": "light"
     },
     "output_type": "display_data"
    },
    {
     "data": {
      "image/png": "[encoded data removed]",
      "text/plain": [
       "<Figure size 432.625x360 with 1 Axes>"
      ]
     },
     "metadata": {
      "needs_background": "light"
     },
     "output_type": "display_data"
    }
   ],
   "source": [
    "# sns.lmplot()\n",
    "sns.lmplot('total_bill','tip',data = tips)\n",
    "sns.lmplot('total_bill','tip',data = tips,order=3)\n",
    "sns.lmplot('total_bill','tip',data = tips, order=3, hue='sex')"
   ]
  },
  {
   "cell_type": "code",
   "execution_count": 83,
   "metadata": {},
   "outputs": [
    {
     "data": {
      "text/plain": [
       "<matplotlib.axes._subplots.AxesSubplot at 0x7ffb202a1290>"
      ]
     },
     "execution_count": 83,
     "metadata": {},
     "output_type": "execute_result"
    },
    {
     "data": {
      "image/png": "[encoded data removed]",
      "text/plain": [
       "<Figure size 432x288 with 1 Axes>"
      ]
     },
     "metadata": {
      "needs_background": "light"
     },
     "output_type": "display_data"
    }
   ],
   "source": [
    "# sns.residplot\n",
    "sns.residplot('tip','total_bill',data = tips)"
   ]
  },
  {
   "cell_type": "code",
   "execution_count": 95,
   "metadata": {},
   "outputs": [
    {
     "data": {
      "text/plain": [
       "<matplotlib.axes._subplots.AxesSubplot at 0x7ffb02f6ef90>"
      ]
     },
     "execution_count": 95,
     "metadata": {},
     "output_type": "execute_result"
    },
    {
     "data": {
      "image/png": "[encoded data removed]",
      "text/plain": [
       "<Figure size 432x288 with 1 Axes>"
      ]
     },
     "metadata": {
      "needs_background": "light"
     },
     "output_type": "display_data"
    }
   ],
   "source": [
    "sns.stripplot('day','total_bill',jitter=True,data=tips)"
   ]
  },
  {
   "cell_type": "code",
   "execution_count": 96,
   "metadata": {},
   "outputs": [
    {
     "data": {
      "text/plain": [
       "<matplotlib.axes._subplots.AxesSubplot at 0x7ffb03028c10>"
      ]
     },
     "execution_count": 96,
     "metadata": {},
     "output_type": "execute_result"
    },
    {
     "data": {
      "image/png": "[encoded data removed]",
      "text/plain": [
       "<Figure size 432x288 with 1 Axes>"
      ]
     },
     "metadata": {
      "needs_background": "light"
     },
     "output_type": "display_data"
    }
   ],
   "source": [
    "sns.swarmplot('day','total_bill',data=tips,hue='sex')"
   ]
  },
  {
   "cell_type": "markdown",
   "metadata": {},
   "source": [
    "# -------------------- Time Series --------------------"
   ]
  },
  {
   "cell_type": "code",
   "execution_count": 113,
   "metadata": {},
   "outputs": [
    {
     "name": "stdout",
     "output_type": "stream",
     "text": [
      "2015-07-04 00:00:00\n",
      "2015 -- Jul -- 2015\n",
      "2015-07-04 00:00:00 \n",
      "----------\n",
      "['2015-07-04' '2015-07-05' '2015-07-06'] \n",
      "----------\n",
      "2015-07-04 00:00:00\n",
      "Day of the week: Saturday\n",
      "DatetimeIndex(['2015-07-04', '2015-07-05', '2015-07-06'], dtype='datetime64[ns]', freq=None)\n"
     ]
    }
   ],
   "source": [
    "# Dates and Times in Python\n",
    "# 1. datetime and dateutil\n",
    "from datetime import datetime\n",
    "time = datetime(year=2015,month=7,day=4)\n",
    "print(time)\n",
    "print(time.strftime('%Y -- %b -- %Y'))\n",
    "\n",
    "from dateutil import parser\n",
    "date=parser.parse('4th of July, 2015')\n",
    "print(date,'\\n----------') # Same\n",
    "\n",
    "\n",
    "# 2. NumPy's datetime64\n",
    "import numpy as np\n",
    "date2 = np.array('2015-07-04',dtype=np.datetime64) # datetime64/timedelta64\n",
    "print(date2+np.arange(3),'\\n----------')\n",
    "\n",
    "# 3. Best of both worlds\n",
    "import pandas as pd\n",
    "date3 = pd.to_datetime('4th of July, 2015') # can test any date type\n",
    "print(date)\n",
    "print(\"Day of the week:\",date3.strftime('%A'))\n",
    "print(date3+pd.to_timedelta(np.arange(3),'D'))"
   ]
  },
  {
   "cell_type": "code",
   "execution_count": 114,
   "metadata": {},
   "outputs": [
    {
     "name": "stdout",
     "output_type": "stream",
     "text": [
      "2014-07-04    0\n",
      "2014-08-04    1\n",
      "2015-07-04    2\n",
      "2015-08-04    3\n",
      "dtype: int64 \n",
      "\n",
      "2014-07-04    0\n",
      "2014-08-04    1\n",
      "dtype: int64 \n",
      "\n",
      "2015-07-04    2\n",
      "2015-08-04    3\n",
      "dtype: int64\n"
     ]
    }
   ],
   "source": [
    "# Pandas Time Series: Indexing by Time\n",
    "index = pd.DatetimeIndex(['2014-07-04','2014-08-04','2015-07-04','2015-08-04'])\n",
    "date = pd.Series([0,1,2,3],index=index)\n",
    "print(date,'\\n')\n",
    "print(date['2014-05-15':'2015/5/15'],'\\n')\n",
    "print(date['2015'])"
   ]
  },
  {
   "cell_type": "code",
   "execution_count": 119,
   "metadata": {},
   "outputs": [
    {
     "name": "stdout",
     "output_type": "stream",
     "text": [
      "DatetimeIndex(['2015-07-03', '2015-07-04', '2015-07-06', '2016-07-03',\n",
      "               '2016-08-03'],\n",
      "              dtype='datetime64[ns]', freq=None) \n",
      "\n",
      "PeriodIndex(['2015-07', '2015-07', '2015-07', '2016-07', '2016-08'], dtype='period[M]', freq='M') \n",
      "\n",
      "TimedeltaIndex(['0 days', '1 days', '3 days', '366 days', '397 days'], dtype='timedelta64[ns]', freq=None) \n",
      "\n",
      "DatetimeIndex(['2015-07-03', '2015-07-04', '2015-07-05'], dtype='datetime64[ns]', freq='D')\n",
      "DatetimeIndex(['2015-07-03', '2015-07-04', '2015-07-05'], dtype='datetime64[ns]', freq='D')\n",
      "DatetimeIndex(['2015-07-31', '2015-08-31', '2015-09-30'], dtype='datetime64[ns]', freq='M')\n",
      "DatetimeIndex(['2015-08-01', '2015-09-01', '2015-10-01'], dtype='datetime64[ns]', freq='MS')\n",
      "PeriodIndex(['2015-07', '2015-08', '2015-09'], dtype='period[M]', freq='M')\n",
      "TimedeltaIndex(['0 days 13:30:00', '1 days 13:30:00', '2 days 13:30:00'], dtype='timedelta64[ns]', freq='D')\n",
      "TimedeltaIndex(['13:30:00', '16:00:00', '18:30:00'], dtype='timedelta64[ns]', freq='150T')\n"
     ]
    }
   ],
   "source": [
    "# Pandas Time Series Data Structures\n",
    "# 1. DatetimeIndex:\n",
    "dates = pd.to_datetime([datetime(2015,7,3),'4th of July, 2015','2015-Jul-6','07/03/2016','20160803'])\n",
    "print(dates,'\\n')\n",
    "\n",
    "# 2. PeriodIndex\n",
    "print(dates.to_period('M'),'\\n')\n",
    "\n",
    "# 3. TimedeltaIndex\n",
    "print(dates - dates[0],'\\n')\n",
    "\n",
    "# Regular sequences: pd_date_range()\n",
    "print(pd.date_range('2015-07-03','2015-07-5'))\n",
    "print(pd.date_range('2015-07-03',periods = 3))\n",
    "print(pd.date_range('2015-07-03',periods = 3,freq='M'))\n",
    "print(pd.date_range('2015-07-03',periods = 3,freq='MS')) # 'MS' -> Add a 'S' after freq means month starts at the first day\n",
    "print(pd.period_range('2015-07-03',periods = 3,freq='M'))\n",
    "print(pd.timedelta_range('13:30:00',periods = 3,freq='D'))\n",
    "print(pd.timedelta_range('13:30:00',periods = 3,freq='2H30T'))\n",
    "\n",
    "\n",
    "# A/M/D -> Year/Month/Day end\n",
    "# W -> Weekly\n",
    "# Q -> Quarter end\n",
    "# H:T:S -> Hours:Minutes:Seconds\n",
    "# BA -> Business year end"
   ]
  },
  {
   "cell_type": "code",
   "execution_count": 215,
   "metadata": {},
   "outputs": [
    {
     "name": "stdout",
     "output_type": "stream",
     "text": [
      "<class 'pandas.core.frame.DataFrame'>\n",
      "DatetimeIndex: 8759 entries, 2010-01-01 00:00:00 to 2010-12-31 23:00:00\n",
      "Data columns (total 3 columns):\n",
      "Temperature    8759 non-null float64\n",
      "DewPoint       8759 non-null float64\n",
      "Pressure       8759 non-null float64\n",
      "dtypes: float64(3)\n",
      "memory usage: 273.7 KB\n"
     ]
    }
   ],
   "source": [
    "# Time Series in DF\n",
    "weather.info()"
   ]
  },
  {
   "cell_type": "code",
   "execution_count": 223,
   "metadata": {},
   "outputs": [
    {
     "name": "stdout",
     "output_type": "stream",
     "text": [
      "                     Temperature  DewPoint  Pressure\n",
      "Date                                                \n",
      "2010-06-04 00:00:00         74.6      68.4       1.0\n",
      "2010-06-04 01:00:00         73.2      68.5       1.0\n",
      "2010-06-04 02:00:00         72.6      68.5       1.0\n",
      "2010-06-04 03:00:00         72.1      68.4       1.0\n",
      "2010-06-04 04:00:00         71.6      68.2       1.0 \n",
      "\n",
      "                     Temperature  DewPoint  Pressure\n",
      "Date                                                \n",
      "2010-06-04 00:00:00         74.6      68.4       1.0\n",
      "2010-06-04 01:00:00         73.2      68.5       1.0\n",
      "2010-06-04 02:00:00         72.6      68.5       1.0\n",
      "2010-06-04 03:00:00         72.1      68.4       1.0\n",
      "2010-06-04 04:00:00         71.6      68.2       1.0 \n",
      "\n",
      "                     Temperature  DewPoint  Pressure\n",
      "Date                                                \n",
      "2010-07-01 00:00:00         77.4      70.6       1.0\n",
      "2010-07-01 01:00:00         76.1      70.9       1.0\n",
      "2010-07-01 02:00:00         75.3      70.9       1.0\n",
      "2010-07-01 03:00:00         74.7      70.9       1.0\n",
      "2010-07-01 04:00:00         74.3      70.8       1.0\n"
     ]
    }
   ],
   "source": [
    "print(weather.loc['June 4th 2010'].head(),'\\n')\n",
    "print(weather.loc['20100604'].head(),'\\n')\n",
    "print(weather.loc['2010-07'].head()) # If getting the month, we need to use year-month format\n"
   ]
  },
  {
   "cell_type": "code",
   "execution_count": 234,
   "metadata": {},
   "outputs": [
    {
     "data": {
      "text/plain": [
       "<matplotlib.axes._subplots.AxesSubplot at 0x7ffafac1d090>"
      ]
     },
     "execution_count": 234,
     "metadata": {},
     "output_type": "execute_result"
    },
    {
     "data": {
      "image/png": "[encoded data removed]",
      "text/plain": [
       "<Figure size 432x288 with 1 Axes>"
      ]
     },
     "metadata": {
      "needs_background": "light"
     },
     "output_type": "display_data"
    }
   ],
   "source": [
    "weather['Temperature'].resample('D').mean().plot()\n",
    "weather['Temperature'].asfreq('D',method='bfill').plot(style='-',color='g')\n",
    "# asfreq -> the value at each day -> method = 'None/bfill/ffill'"
   ]
  },
  {
   "cell_type": "code",
   "execution_count": 237,
   "metadata": {},
   "outputs": [
    {
     "data": {
      "text/plain": [
       "<matplotlib.axes._subplots.AxesSubplot at 0x7ffb1073d750>"
      ]
     },
     "execution_count": 237,
     "metadata": {},
     "output_type": "execute_result"
    },
    {
     "data": {
      "image/png": "[encoded data removed]",
      "text/plain": [
       "<Figure size 432x288 with 1 Axes>"
      ]
     },
     "metadata": {
      "needs_background": "light"
     },
     "output_type": "display_data"
    }
   ],
   "source": [
    "# Rolling windows\n",
    "weather.loc['2010-07-01','Temperature'].rolling(5,center=True).mean().plot() \n",
    "# mean() / max() / min()\n",
    "# center = True/False"
   ]
  },
  {
   "cell_type": "markdown",
   "metadata": {},
   "source": [
    "# -------------------- String Manipulation --------------------"
   ]
  },
  {
   "cell_type": "code",
   "execution_count": 42,
   "metadata": {},
   "outputs": [
    {
     "data": {
      "text/plain": [
       "0      6\n",
       "1      4\n",
       "2      4\n",
       "3      4\n",
       "4      6\n",
       "      ..\n",
       "239    4\n",
       "240    6\n",
       "241    4\n",
       "242    4\n",
       "243    6\n",
       "Name: sex, Length: 244, dtype: int64"
      ]
     },
     "execution_count": 42,
     "metadata": {},
     "output_type": "execute_result"
    }
   ],
   "source": [
    "# Change Series to string -> Series.str\n",
    "# （DataFrame object has no attribut 'str'）\n",
    "tips['sex'].str.len() # male -> 4; female -> 6"
   ]
  },
  {
   "cell_type": "code",
   "execution_count": 12,
   "metadata": {},
   "outputs": [
    {
     "name": "stdout",
     "output_type": "stream",
     "text": [
      "len        : 19\n",
      "replace    :  azzc,zzzzzz, do, guido\n",
      "count      : 4\n",
      "upper      :  ABC,BBB, DO, GUIDO\n",
      "title      :  Abc,Bbb, Do, Guido\n",
      "strip      : abc,bbb, do, guido\n",
      "startswith : False\n",
      "split      : ['', 'abc,bbb,', 'do,', 'guido']\n"
     ]
    }
   ],
   "source": [
    "# String functions:\n",
    "sm = ' abc,bbb, do, guido'\n",
    "print('len        :',len(sm))\n",
    "print('replace    :', sm.replace('b','zz'))\n",
    "print('count      :',sm.count('b'))\n",
    "print('upper      :',sm.upper()) # lower()\n",
    "print('title      :',sm.title())\n",
    "print('strip      :',sm.strip()) # rstrip()\n",
    "print('startswith :', sm.startswith('s')) # endswith()\n",
    "print('split      :',sm.split(' '))"
   ]
  },
  {
   "cell_type": "code",
   "execution_count": 16,
   "metadata": {},
   "outputs": [
    {
     "name": "stdout",
     "output_type": "stream",
     "text": [
      "I am 28 years old.\n"
     ]
    }
   ],
   "source": [
    "# Combine String\n",
    "a = 'I am'\n",
    "b = 28 # need to add str() for int\n",
    "c = \"years old.\"\n",
    "print(a + \" \" + str(b) + \" \" + c)"
   ]
  },
  {
   "cell_type": "code",
   "execution_count": 8,
   "metadata": {},
   "outputs": [],
   "source": [
    "# Regular Expressions\n",
    "import re\n",
    "x = \"From stephen.marquard@uct.ac.za Sat Jan 5 09:14:16 2008\"\n",
    "y = pd.Series(['Apple','Banana','Book','Yes Sir'])\n",
    "\n",
    "### Format\n",
    "# re.findall('...', string)\n",
    "# Series.str.findall('...')"
   ]
  },
  {
   "cell_type": "code",
   "execution_count": 9,
   "metadata": {},
   "outputs": [
    {
     "name": "stdout",
     "output_type": "stream",
     "text": [
      "['mar', 'uar', '.ac', 'za ', 'Jan']\n",
      "[' stephen.marquard@uct.ac.za ', ' Jan ', ' 09:14:16 ']\n",
      "['stephen.ma', 'rqua', 'rd@uct.a', 'c.za', 'Sa', 'Ja'] \n",
      "\n",
      "0     True\n",
      "1    False\n",
      "2    False\n",
      "3    False\n",
      "dtype: bool\n"
     ]
    }
   ],
   "source": [
    "print(re.findall('.a[^t]',x))\n",
    "# '.'  -> one string\n",
    "# [abc] or [0-7]\n",
    "# [^...] -> without\n",
    "# ^[...] -> beginning\n",
    "# $ -> end\n",
    "\n",
    "print(re.findall('\\s\\S+\\s',x))\n",
    "# '\\s' -> space\n",
    "# '\\S+' -> non-space strings\n",
    "# '+' -> 1 or more repetitions\n",
    "# '*'  -> 0 or more repetitions -> ab* -> ‘a’ followed by any number of ‘b’s (‘a’, ‘ab’)\n",
    "\n",
    "print(re.findall('\\S+?a',x),'\\n') \n",
    "# '+?' or '*?' -> not greedy get the first element\n",
    "\n",
    "# Others:\n",
    "print(y.str.contains('A.*')) # -> boolean"
   ]
  },
  {
   "cell_type": "code",
   "execution_count": 17,
   "metadata": {},
   "outputs": [
    {
     "name": "stdout",
     "output_type": "stream",
     "text": [
      "<re.Match object; span=(0, 4), match='From'>\n",
      "<re.Match object; span=(51, 55), match='2008'>\n",
      "['From', 'stephen.marquard@uct.ac.za', 'Sat', 'Jan', '5', '09', '14', '16', '2008']\n",
      "Date:Sat Jan 5 09:14:16 2008\n",
      "True\n"
     ]
    }
   ],
   "source": [
    "print(re.match(\"From\",x)) # string start with \"From\"\n",
    "print(re.search(\"2008\", x)) # string contains with \"2008\"\n",
    "print(re.split(\"[ :]\",x)) # split by \"blank\" and \":\"\n",
    "print(re.sub(\"From stephen.marquard@uct.ac.za \", \"Date: \", x)) # Replace string\n",
    "print(all([\n",
    "    re.match(\"From\",x),\n",
    "    re.search(\"2008\", x), \n",
    "    9==len(re.split(\"[ :]\",x))]))"
   ]
  },
  {
   "cell_type": "code",
   "execution_count": 175,
   "metadata": {},
   "outputs": [
    {
     "name": "stdout",
     "output_type": "stream",
     "text": [
      "0    App\n",
      "1    Ban\n",
      "2    Boo\n",
      "3    Yes\n",
      "dtype: object \n",
      "\n",
      "0       [Apple]\n",
      "1      [Banana]\n",
      "2        [Book]\n",
      "3    [Yes, Sir]\n",
      "dtype: object \n",
      "\n",
      "0     Apple\n",
      "1    Banana\n",
      "2      Book\n",
      "3       Sir\n",
      "dtype: object\n"
     ]
    }
   ],
   "source": [
    "# Vectorized item access and slicing\n",
    "print(y.str[0:3],'\\n')\n",
    "print(y.str.split(),'\\n')\n",
    "print(y.str.split().str.get(-1)) # get() -> get the element by its index"
   ]
  },
  {
   "cell_type": "markdown",
   "metadata": {},
   "source": [
    "# -------------------- Functions --------------------"
   ]
  },
  {
   "cell_type": "markdown",
   "metadata": {},
   "source": [
    "## If, While and Loop"
   ]
  },
  {
   "cell_type": "code",
   "execution_count": 262,
   "metadata": {},
   "outputs": [
    {
     "name": "stdout",
     "output_type": "stream",
     "text": [
      "Ops, we are out of mushroom right now.\n",
      "Sorry, we don't have french fries.\n",
      "Sorry, we don't have coke.\n",
      "Adding extra cheese...\n",
      "\n",
      "Finished making your pizza!\n",
      "\n",
      "-------------\n",
      "Are you sure you want to a plain pizza?\n"
     ]
    }
   ],
   "source": [
    "# \"If\" is very useful for list\n",
    "available_toppings = ['mushrooms','green peppers','extra cheese']\n",
    "requested_toppings = ['mushrooms','french fries','coke','extra cheese']\n",
    "\n",
    "for topping in requested_toppings:\n",
    "    if topping in available_toppings:\n",
    "        if topping == 'mushrooms':\n",
    "            print(\"Ops, we are out of mushroom right now.\")\n",
    "        else:\n",
    "            print(\"Adding \" + topping + \"...\")\n",
    "    else:\n",
    "        print(\"Sorry, we don't have\",topping + \".\") # concat in print ',' -> one space; '+' -> no space\n",
    "print(\"\\nFinished making your pizza!\\n\")\n",
    "print(\"-------------\")\n",
    "\n",
    "\n",
    "requested_toppings = []\n",
    "# requested_toppings = ['mushroom']\n",
    "\n",
    "if requested_toppings: # Consider the situation if the list is empty\n",
    "    for toppings in requested_toppings:\n",
    "        print(\"Adding \" + toppings + \".\")\n",
    "else:\n",
    "    print(\"Are you sure you want to a plain pizza?\")\n",
    "    "
   ]
  },
  {
   "cell_type": "code",
   "execution_count": 171,
   "metadata": {},
   "outputs": [
    {
     "name": "stdout",
     "output_type": "stream",
     "text": [
      "car in ['audi','bmw','ferrari','toyota'] -->  True\n"
     ]
    }
   ],
   "source": [
    "car = 'toyota'\n",
    "print(\"car in ['audi','bmw','ferrari','toyota'] --> \", car in ['audi','bmw','ferrari','toyota'])\n",
    "# not in"
   ]
  },
  {
   "cell_type": "code",
   "execution_count": 71,
   "metadata": {},
   "outputs": [
    {
     "name": "stdout",
     "output_type": "stream",
     "text": [
      "Please input a number: 6\n",
      "Too small\n",
      "Done!\n"
     ]
    }
   ],
   "source": [
    "# if\n",
    "area = int(input(\"Please input a number: \"))\n",
    "if area>15:\n",
    "    print('Too big')\n",
    "elif area>10:\n",
    "    print('Nice size')\n",
    "else:\n",
    "    print('Too small') # can always use elif to replace else\n",
    "print('Done!')\n",
    "\n",
    "# Sometimes we need to use series of independent 'if' instead of elif/else\n",
    "# so that we can run multiple print at same time "
   ]
  },
  {
   "cell_type": "code",
   "execution_count": 4,
   "metadata": {},
   "outputs": [
    {
     "name": "stdout",
     "output_type": "stream",
     "text": [
      "4\n",
      "Small\n"
     ]
    }
   ],
   "source": [
    "# Write if-then-else on one line\n",
    "x = int(input())\n",
    "print('Too big' if x>15 else ('Nice Size' if x==15 else 'Too small' ))\n",
    "print('Done!')"
   ]
  },
  {
   "cell_type": "code",
   "execution_count": 228,
   "metadata": {},
   "outputs": [
    {
     "name": "stdout",
     "output_type": "stream",
     "text": [
      "3\n",
      "Done!\n"
     ]
    }
   ],
   "source": [
    "# while loop\n",
    "x = int(input())\n",
    "while x <0:\n",
    "    if x < -5:\n",
    "        x+=2\n",
    "        print(x)\n",
    "    else:\n",
    "        x+=1\n",
    "        print(x)\n",
    "print('Done!')"
   ]
  },
  {
   "cell_type": "code",
   "execution_count": 26,
   "metadata": {},
   "outputs": [
    {
     "name": "stdout",
     "output_type": "stream",
     "text": [
      "1\n",
      "3\n",
      "6\n",
      "10\n"
     ]
    }
   ],
   "source": [
    "# For Loop - use more often than while\n",
    "sequence = [1, 2, None, 3, None, 4, None, 5, 6]\n",
    "total = 0 \n",
    "\n",
    "for value in sequence:\n",
    "    if value is None:\n",
    "        continue\n",
    "    if value >=5:\n",
    "        break\n",
    "    total = value + total\n",
    "    print(total)\n",
    "\n",
    "# We usually use \"for value in range(10)\""
   ]
  },
  {
   "cell_type": "code",
   "execution_count": null,
   "metadata": {},
   "outputs": [],
   "source": [
    "# Generators and Iterators\n",
    "# A generator is something that you can iterate over (used for \"for loop\"),\n",
    "# but whose values are produced only as needed.\n",
    "\n",
    "# Create a generator\n",
    "# Metohd one: Yield\n",
    "def lazy_range(n):\n",
    "    i=0\n",
    "    while i < n:\n",
    "        yield i # yield use to create a generator\n",
    "        i += 1\n",
    "        \n",
    "for value in lazy_range(5):\n",
    "    print(value)\n",
    "print(\"-----\")    \n",
    "# Method two: for comprehensions wrapped in parentheses\n",
    "lazy = (i for i in lazy_range(10) if i % 2 == 0)\n",
    "for value in lazy:\n",
    "    print(value)"
   ]
  },
  {
   "cell_type": "code",
   "execution_count": 32,
   "metadata": {},
   "outputs": [
    {
     "name": "stdout",
     "output_type": "stream",
     "text": [
      "0 : 1\n",
      "1 : 2\n",
      "2 : None\n",
      "3 : 3\n",
      "4 : None\n",
      "5 : 4\n",
      "6 : None\n",
      "7 : 5\n",
      "8 : 6\n"
     ]
    }
   ],
   "source": [
    "# enumerate() -> wanna use both element and index\n",
    "for index, value in enumerate(sequence): # If you only need the index -> use for index, _ in enumerate(sequence)\n",
    "    print(index,\":\",value)"
   ]
  },
  {
   "cell_type": "code",
   "execution_count": 231,
   "metadata": {},
   "outputs": [
    {
     "name": "stdout",
     "output_type": "stream",
     "text": [
      "[(1, 11, 20), (2, 22, 30), (3, 33, 40)]\n"
     ]
    }
   ],
   "source": [
    "# zip -> Transforms multiple lists into a single list of tuples of corresponding elements\n",
    "a = [1,2,3]\n",
    "b = [11,22,33]\n",
    "c = [20,30,40]\n",
    "zipped = list(zip(a,b,c)) # Choose the list with lowest number of elements\n",
    "print(zipped)"
   ]
  },
  {
   "cell_type": "code",
   "execution_count": 35,
   "metadata": {},
   "outputs": [
    {
     "name": "stdout",
     "output_type": "stream",
     "text": [
      "('a', 'b', 'c') (1, 2, 3)\n",
      "('a', 'b', 'c') (1, 2, 3)\n"
     ]
    }
   ],
   "source": [
    "# unzip\n",
    "# Method 1\n",
    "pairs = [('a', 1), ('b', 2), ('c', 3)]\n",
    "letters, numbers = zip(*pairs) # \"*\" -> argument unpacking\n",
    "print(letters, numbers)\n",
    "\n",
    "# Method 2\n",
    "unpack = zip(('a', 1), ('b', 2), ('c', 3))\n",
    "letters, numbers = unpack\n",
    "print(letters, numbers)"
   ]
  },
  {
   "cell_type": "code",
   "execution_count": 17,
   "metadata": {},
   "outputs": [
    {
     "data": {
      "text/plain": [
       "'I am Diego.'"
      ]
     },
     "execution_count": 17,
     "metadata": {},
     "output_type": "execute_result"
    }
   ],
   "source": [
    "# Function for tumple:\n",
    "def shout(word1, word2):         \n",
    "    return word1+word2\n",
    "shout('I am ','Diego.')"
   ]
  },
  {
   "cell_type": "code",
   "execution_count": 18,
   "metadata": {},
   "outputs": [
    {
     "data": {
      "text/plain": [
       "'I am Diego. Hello!!!'"
      ]
     },
     "execution_count": 18,
     "metadata": {},
     "output_type": "execute_result"
    }
   ],
   "source": [
    "def shout(word1, word2, greeting = \" Hello!!!\"): # Add a default parameter\n",
    "    if greeting:\n",
    "        return word1 + word2 + greeting\n",
    "    else:\n",
    "        return word1+word2\n",
    "shout('I am ','Diego.') # You can choose whether use greeting or not"
   ]
  },
  {
   "cell_type": "code",
   "execution_count": 24,
   "metadata": {},
   "outputs": [
    {
     "data": {
      "text/plain": [
       "'ab3d'"
      ]
     },
     "execution_count": 24,
     "metadata": {},
     "output_type": "execute_result"
    }
   ],
   "source": [
    "# * -> multiple tuple parameters\n",
    "def tup(*letter):\n",
    "    blank = ''\n",
    "    for x in letter:\n",
    "        blank+=x\n",
    "    return blank\n",
    "tup('a','b','3','d')"
   ]
  },
  {
   "cell_type": "code",
   "execution_count": 19,
   "metadata": {},
   "outputs": [
    {
     "name": "stdout",
     "output_type": "stream",
     "text": [
      "Hello Hanna!\n",
      "Hello Tty!\n",
      "Hello Margo!\n"
     ]
    }
   ],
   "source": [
    "# Function for list\n",
    "def greet_users(names):\n",
    "    for name in names:\n",
    "        msg = \"Hello \" + name.title() + \"!\"\n",
    "        print(msg)\n",
    "\n",
    "usernames = ['hanna','tty', 'margo']\n",
    "greet_users(usernames)"
   ]
  },
  {
   "cell_type": "code",
   "execution_count": 22,
   "metadata": {},
   "outputs": [
    {
     "name": "stdout",
     "output_type": "stream",
     "text": [
      "{'first': 'Jimmy', 'last': 'L'}\n",
      "{'first': 'Jimmy', 'last': 'L', 'age': 18}\n"
     ]
    }
   ],
   "source": [
    "# Function for dictionary\n",
    "def build_person(first_name, last_name, age=''):\n",
    "    person = {'first': first_name, 'last': last_name}\n",
    "    if age:\n",
    "        person['age'] = age\n",
    "    return person\n",
    "\n",
    "name = build_person('Jimmy', \"L\")\n",
    "print(name)\n",
    "\n",
    "name = build_person('Jimmy', \"L\", age=18)\n",
    "print(name)"
   ]
  },
  {
   "cell_type": "code",
   "execution_count": 26,
   "metadata": {},
   "outputs": [
    {
     "name": "stdout",
     "output_type": "stream",
     "text": [
      "NAME --> Diego\n",
      "AGE --> 27\n",
      "GENDER --> Male\n"
     ]
    }
   ],
   "source": [
    "# ** -> multiple dict parameters\n",
    "def dic(**info):\n",
    "    for key,value in info.items():\n",
    "        print(key.upper() + \" --> \" + value)\n",
    "dic(name = 'Diego',age = '27',gender = \"Male\")"
   ]
  },
  {
   "cell_type": "code",
   "execution_count": 55,
   "metadata": {},
   "outputs": [
    {
     "name": "stdout",
     "output_type": "stream",
     "text": [
      "unnamed args: (1, 2)\n",
      "keyword args: {'key': 'word', 'key2': 'word2'}\n",
      "6\n"
     ]
    }
   ],
   "source": [
    "# Summary for \"*args\" nad \"**kwargs\" -> arbitrary arguments\n",
    "# (args or kwargs can be any word)\n",
    "\n",
    "def magic(*args, **kwargs):\n",
    "    print (\"unnamed args:\", args)\n",
    "    print (\"keyword args:\", kwargs)\n",
    "magic(1, 2, key=\"word\", key2=\"word2\")\n",
    "\n",
    "def other_way_magic(x, y, z): \n",
    "    return x + y + z\n",
    "x_y_list = [1, 2]\n",
    "z_dict = { \"z\" : 3 }\n",
    "print (other_way_magic(*x_y_list, **z_dict))\n"
   ]
  },
  {
   "cell_type": "code",
   "execution_count": 237,
   "metadata": {},
   "outputs": [
    {
     "name": "stdout",
     "output_type": "stream",
     "text": [
      "   total_bill   tip     sex smoker  day    time  size    tip_pct\n",
      "0       16.99  1.01  Female     No  Sun  Dinner     2   5.944673\n",
      "1       10.34  1.66    Male     No  Sun  Dinner     3  16.054159\n",
      "2       21.01  3.50    Male     No  Sun  Dinner     3  16.658734\n",
      "3       23.68  3.31    Male     No  Sun  Dinner     2  13.978041\n",
      "4       24.59  3.61  Female     No  Sun  Dinner     4  14.680765\n"
     ]
    },
    {
     "data": {
      "text/plain": [
       "0    6\n",
       "1    4\n",
       "2    4\n",
       "3    4\n",
       "4    6\n",
       "Name: sex, dtype: int64"
      ]
     },
     "execution_count": 237,
     "metadata": {},
     "output_type": "execute_result"
    }
   ],
   "source": [
    "# apply\n",
    "print(tips.head())\n",
    "tips['sex'].apply(len).head()"
   ]
  },
  {
   "cell_type": "code",
   "execution_count": 4,
   "metadata": {},
   "outputs": [
    {
     "data": {
      "text/plain": [
       "0    1.699\n",
       "1    1.034\n",
       "2    2.101\n",
       "3    2.368\n",
       "4    2.459\n",
       "Name: total_bill, dtype: float64"
      ]
     },
     "execution_count": 4,
     "metadata": {},
     "output_type": "execute_result"
    }
   ],
   "source": [
    "# lambda\n",
    "tax = (lambda x,y: x*y)\n",
    "tax(tips['total_bill'],0.1).head()\n",
    "\n",
    "# or use map\n",
    "# list(map(lambda x: x*0.1, tips['total_bill']))[:5]"
   ]
  },
  {
   "cell_type": "code",
   "execution_count": 13,
   "metadata": {},
   "outputs": [
    {
     "data": {
      "text/plain": [
       "['protego', 'expecto patronum', 'legilimens']"
      ]
     },
     "execution_count": 13,
     "metadata": {},
     "output_type": "execute_result"
    }
   ],
   "source": [
    "spells = [\"protego\", \"accio\", \"expecto patronum\", \"legilimens\"]\n",
    "list(filter(lambda x: len(x)>6,spells))"
   ]
  },
  {
   "cell_type": "markdown",
   "metadata": {},
   "source": [
    "## input and while"
   ]
  },
  {
   "cell_type": "code",
   "execution_count": 265,
   "metadata": {},
   "outputs": [
    {
     "name": "stdout",
     "output_type": "stream",
     "text": [
      "Tell me something: k\n",
      "k\n"
     ]
    }
   ],
   "source": [
    "message = input(\"Please enter your name: \")\n",
    "print(message)"
   ]
  },
  {
   "cell_type": "code",
   "execution_count": 268,
   "metadata": {},
   "outputs": [
    {
     "name": "stdout",
     "output_type": "stream",
     "text": [
      "If you tell us who you are, we can personalize the messages you see.\n",
      "What is your first name? Diego\n",
      "\n",
      "Hello, Diego!\n"
     ]
    }
   ],
   "source": [
    "# If the input sentense is too long:\n",
    "prompt = \"If you tell us who you are, we can personalize the messages you see.\"\n",
    "prompt += \"\\nWhat is your first name? \"\n",
    "\n",
    "name = input(prompt)\n",
    "print('\\nHello, '+name+'!')"
   ]
  },
  {
   "cell_type": "code",
   "execution_count": 273,
   "metadata": {},
   "outputs": [
    {
     "name": "stdout",
     "output_type": "stream",
     "text": [
      "How old are you? 18\n"
     ]
    },
    {
     "data": {
      "text/plain": [
       "True"
      ]
     },
     "execution_count": 273,
     "metadata": {},
     "output_type": "execute_result"
    }
   ],
   "source": [
    "# input numeric value\n",
    "age = input(\"How old are you? \")\n",
    "age = int(age)\n",
    "age >= 18"
   ]
  },
  {
   "cell_type": "code",
   "execution_count": 274,
   "metadata": {},
   "outputs": [
    {
     "name": "stdout",
     "output_type": "stream",
     "text": [
      "1\n",
      "2\n",
      "3\n",
      "4\n",
      "5\n"
     ]
    }
   ],
   "source": [
    "### While\n",
    "current_number = 1\n",
    "while current_number <= 5:\n",
    "    print(current_number)\n",
    "    current_number += 1\n"
   ]
  },
  {
   "cell_type": "code",
   "execution_count": 288,
   "metadata": {},
   "outputs": [
    {
     "name": "stdout",
     "output_type": "stream",
     "text": [
      "What is your first name? quit\n",
      "NOW QUIT!!!\n"
     ]
    }
   ],
   "source": [
    "prompt = \"What is your first name? \"\n",
    "\n",
    "message = \"\" # We need to create a blank to start\n",
    "\n",
    "while message != 'quit':\n",
    "    message = input(prompt)\n",
    "    \n",
    "    if message == 'quit': # We can choose when to stop\n",
    "        print(\"NOW QUIT!!!\")"
   ]
  },
  {
   "cell_type": "code",
   "execution_count": 289,
   "metadata": {},
   "outputs": [
    {
     "name": "stdout",
     "output_type": "stream",
     "text": [
      "What is your first name? diego\n",
      "diego\n",
      "What is your first name? quit\n"
     ]
    }
   ],
   "source": [
    "# use a mark -> If there are many conditions need to focus\n",
    "prompt = \"What is your first name? \"\n",
    "\n",
    "active = True # Now we only need to see whether the active = True/False\n",
    "# Or use break to replace all the active\n",
    "\n",
    "while active:\n",
    "    message = input(prompt)\n",
    "    \n",
    "    if message == 'quit': \n",
    "        active = False # break\n",
    "    else: \n",
    "        print(message)"
   ]
  },
  {
   "cell_type": "code",
   "execution_count": 301,
   "metadata": {},
   "outputs": [
    {
     "name": "stdout",
     "output_type": "stream",
     "text": [
      "Verifying user: Candace\n",
      "Confirmed user: ['candace']\n",
      "Verifying user: Brian\n",
      "Confirmed user: ['candace', 'brian']\n",
      "Verifying user: Alice\n",
      "Confirmed user: ['candace', 'brian', 'alice']\n"
     ]
    }
   ],
   "source": [
    "# while with list\n",
    "unconfirmed_users = ['alice','brian','candace']\n",
    "confirmed_users = []\n",
    "\n",
    "\n",
    "# Test every users, until there is no any \"unconfirmed_users\"\n",
    "# save every tested users into 'confired_users'\n",
    "\n",
    "while unconfirmed_users:\n",
    "    current_user = unconfirmed_users.pop() \n",
    "    # .pop() -> delete the last element, but you can use current_user as the reference for the last element\n",
    "    print(\"Verifying user:\", current_user.title())\n",
    "    confirmed_users.append(current_user)\n",
    "    print(\"Confirmed user:\", confirmed_users)\n"
   ]
  },
  {
   "cell_type": "code",
   "execution_count": 302,
   "metadata": {},
   "outputs": [
    {
     "name": "stdout",
     "output_type": "stream",
     "text": [
      "['dog', 'dog', 'goldfish', 'rabbit']\n"
     ]
    }
   ],
   "source": [
    "# while -> delete specific element in a list\n",
    "pets = ['dog','cat','dog','goldfish','cat','rabbit','cat']\n",
    "\n",
    "while 'cat' in pets:\n",
    "    pets.remove('cat')\n",
    "print(pets)"
   ]
  },
  {
   "cell_type": "code",
   "execution_count": 312,
   "metadata": {},
   "outputs": [
    {
     "name": "stdout",
     "output_type": "stream",
     "text": [
      "\n",
      "What is your name? diego\n",
      "What is your hobby? 2\n",
      "Would you like to let another person to respond? (Y/N) N\n",
      "\n",
      "--- Poll Results ---\n",
      "diego likes playing 2\n"
     ]
    }
   ],
   "source": [
    "# use while to fill in dictionary\n",
    "responses = {}\n",
    "\n",
    "polling_active = True\n",
    "\n",
    "while polling_active:\n",
    "    name = input(\"\\nWhat is your name? \")\n",
    "    response = input(\"What is your hobby? \")\n",
    "    \n",
    "    responses[name] = response\n",
    "    \n",
    "    repeat = input(\"Would you like to let another person to respond? (Y/N) \")\n",
    "    if repeat == \"N\":\n",
    "        polling_active = False\n",
    "\n",
    "print(\"\\n--- Poll Results ---\")\n",
    "for name, response in responses.items():\n",
    "    print(name, \"likes playing\", response)"
   ]
  },
  {
   "cell_type": "markdown",
   "metadata": {},
   "source": [
    "## Functions"
   ]
  },
  {
   "cell_type": "code",
   "execution_count": 388,
   "metadata": {},
   "outputs": [],
   "source": [
    "# Save the function in a module\n",
    "# 1. Start:\n",
    "# Create a file name module_name.py with all the functions -> save\n",
    "# 2. Import:\n",
    "# from module_name as mod import function_name1 as fun1, function_name2 as fun2\n",
    "# 3. Function:\n",
    "# mod.fun1(XXX)"
   ]
  },
  {
   "cell_type": "code",
   "execution_count": 28,
   "metadata": {},
   "outputs": [
    {
     "name": "stdout",
     "output_type": "stream",
     "text": [
      "First number: 6\n",
      "Second number: 0\n",
      "You can't divide by zero!\n"
     ]
    }
   ],
   "source": [
    "# try-except -> remove the Traceback\n",
    "first_number = input(\"First number: \")\n",
    "second_number = input(\"Second number: \")\n",
    "\n",
    "try: # only put the code which can possible cause issue in the try section\n",
    "    answer = int(first_number)/int(second_number)\n",
    "except ZeroDivisionError: # We can find the \"ZeroDivisionError\" code from the Traceback\n",
    "    print(\"You can't divide by zero!\") # If we use \"pass\" --> the message of the issue won't show up\n",
    "else: \n",
    "    print(answer)\n",
    "\n",
    "# try first_nunber = 3 and second_number = 0\n",
    "# try first_nunber = 3 and second_number = 2"
   ]
  },
  {
   "cell_type": "markdown",
   "metadata": {},
   "source": [
    "## Random"
   ]
  },
  {
   "cell_type": "code",
   "execution_count": 147,
   "metadata": {},
   "outputs": [
    {
     "name": "stdout",
     "output_type": "stream",
     "text": [
      "0.5714025946899135\n",
      "[0.4288890546751146, 0.5780913011344704, 0.20609823213950174] \n",
      "\n",
      "7\n",
      "4 \n",
      "\n",
      "[3, 4, 5, 6, 1, 8, 9, 7, 0, 2] \n",
      "\n",
      "Alice \n",
      "\n",
      "[9, 5, 6, 3, 2, 8]\n",
      "[3, 1, 2, 2, 1, 3, 1, 3, 4, 3]\n"
     ]
    }
   ],
   "source": [
    "import random\n",
    "\n",
    "random.seed(10)\n",
    "\n",
    "# Choose randomly between 0 and 1\n",
    "print(random.random())\n",
    "print([random.random() for _ in range(3)],'\\n')\n",
    "\n",
    "# Choose randomly from integers\n",
    "print(random.randrange(10)) # from range(10) = [0, 1, ..., 9] \n",
    "print(random.randrange(3, 6),'\\n') # from range(3,6) = [3, 4, 5]\n",
    "\n",
    "# Randomly order the list\n",
    "up_to_ten = list(range(10))\n",
    "random.shuffle(up_to_ten) \n",
    "print(up_to_ten,'\\n')\n",
    "\n",
    "# Randomly pick one element from a list\n",
    "print(random.choice([\"Alice\", \"Bob\", \"Charlie\"]),'\\n') \n",
    "\n",
    "# Randomly choose a sample of elements\n",
    "lottery_numbers = range(10)\n",
    "print(random.sample(lottery_numbers, 6)) # without replacement\n",
    "print([random.choice(range(5)) for _ in lottery_numbers]) # with replacement"
   ]
  },
  {
   "cell_type": "markdown",
   "metadata": {},
   "source": [
    "# -------------------- Class --------------------"
   ]
  },
  {
   "cell_type": "code",
   "execution_count": 20,
   "metadata": {},
   "outputs": [],
   "source": [
    "# Example one: Dog\n",
    "class Dog(): # Capitalize the first letter -> Dog\n",
    "    def __init__(self, name, age): # self -> Represent the instance of the class\n",
    "        # '__init__' -> attribute of the class -> '__' not '_'\n",
    "        self.name = name\n",
    "        self.age = age\n",
    "    def __repr__(self): # string representation\n",
    "        return \"Ansewr:\"\n",
    "    def sit(self): # the method of class\n",
    "        return self.name.title() + \" is now sitting.\"\n",
    "    def roll_over(self):\n",
    "        print(self.name.title() + \" rolled over!\") # use print will cause extra 'None' for the example below"
   ]
  },
  {
   "cell_type": "code",
   "execution_count": 23,
   "metadata": {},
   "outputs": [
    {
     "name": "stdout",
     "output_type": "stream",
     "text": [
      "Ansewr:\n",
      "Willie is 6 years old.\n",
      "Willie is now sitting. \n",
      "\n",
      "Willie is 3 years old.\n",
      "Lucy rolled over!\n",
      "None\n"
     ]
    }
   ],
   "source": [
    "my_dog = Dog('Willie', 6) # my_dog -> Build an instance of dog\n",
    "print(my_dog)\n",
    "your_dog = Dog('Lucy', 3)\n",
    "print(my_dog.name, \"is\", my_dog.age,'years old.') # .name -> Call the attribute of that instance\n",
    "print(my_dog.sit(),'\\n')\n",
    "\n",
    "print(my_dog.name, \"is\", your_dog.age,'years old.') # .name -> Call the attribute of that instance\n",
    "print(your_dog.roll_over())"
   ]
  },
  {
   "cell_type": "code",
   "execution_count": 77,
   "metadata": {},
   "outputs": [
    {
     "name": "stdout",
     "output_type": "stream",
     "text": [
      "2016 Audi A4\n",
      "This car has 0 miles on it.\n",
      "None\n"
     ]
    }
   ],
   "source": [
    "# Example two: Car\n",
    "class Car():\n",
    "    def __init__(self, make, model, year):\n",
    "        self.make = make\n",
    "        self.model = model\n",
    "        self.year = year\n",
    "        self.odometer_reading = 0 # set up a default instance\n",
    "    def get_descriptive_name(self):\n",
    "        long_name = str(self.year) + ' ' + self.make + ' ' + self.model\n",
    "        return long_name.title()\n",
    "    def read_odometer(self):\n",
    "        print(\"This car has \" + str(self.odometer_reading) + \" miles on it.\")\n",
    "\n",
    "my_new_car = Car('audi', 'a4', 2016)\n",
    "print(my_new_car.get_descriptive_name())\n",
    "print(my_new_car.read_odometer())"
   ]
  },
  {
   "cell_type": "code",
   "execution_count": 29,
   "metadata": {},
   "outputs": [
    {
     "name": "stdout",
     "output_type": "stream",
     "text": [
      "Audi has 23 miles on it.\n",
      "None\n",
      "Audi has 33 miles on it.\n",
      "None\n",
      "Audi has 37 miles on it.\n",
      "None\n"
     ]
    }
   ],
   "source": [
    "# How to update the attribute\n",
    "class Car():\n",
    "    def __init__(self, make):\n",
    "        self.make = make\n",
    "        self.odometer_reading = 0\n",
    "    def read_odometer(self):\n",
    "        print(str(self.make).title() + \" has \" + str(self.odometer_reading) + \" miles on it.\")\n",
    "    def update_odometer(self, mileage): # Method 2\n",
    "        if mileage >= self.odometer_reading:\n",
    "            self.odometer_reading = mileage\n",
    "        else:\n",
    "            print(\"You can't roll back an odometer.\")\n",
    "    def increment_odometer(self, miles): # Method 3\n",
    "        self.odometer_reading += miles\n",
    "        \n",
    "my_new_car = Car('audi')\n",
    "\n",
    "my_new_car.odometer_reading = 23 # Method 1\n",
    "print(my_new_car.read_odometer())\n",
    "\n",
    "my_new_car.update_odometer(33)\n",
    "print(my_new_car.read_odometer())\n",
    "\n",
    "my_new_car.increment_odometer(4)\n",
    "print(my_new_car.read_odometer())"
   ]
  },
  {
   "cell_type": "code",
   "execution_count": 78,
   "metadata": {},
   "outputs": [
    {
     "name": "stdout",
     "output_type": "stream",
     "text": [
      "I like Audi!\n",
      "This car has a 70-kwh battery.\n"
     ]
    }
   ],
   "source": [
    "# Inheritance\n",
    "# You can add a special method/instance to the son\n",
    "class Car(): # Father\n",
    "    def __init__(self,make):\n",
    "        self.make = make\n",
    "    def car_name(self):\n",
    "        return \"I like \" + str(self.make) + \"!\"\n",
    "\n",
    "class ElectricCar(Car): # Son\n",
    "    def __init__(self,make):\n",
    "        super().__init__(make) # Must add \"super\"\n",
    "        self.battery_size = 70\n",
    "    def describe_battery(self):\n",
    "        return \"This car has a \" + str(self.battery_size) + \"-kwh battery.\"\n",
    "    \n",
    "my_car = Car('Audi')\n",
    "print(my_car.car_name())\n",
    "\n",
    "my_tesla = ElectricCar('Tesla')\n",
    "print(my_tesla.describe_battery())\n"
   ]
  },
  {
   "cell_type": "code",
   "execution_count": 79,
   "metadata": {},
   "outputs": [
    {
     "name": "stdout",
     "output_type": "stream",
     "text": [
      "I like Audi!\n",
      "This car has a 70-kwh battery.\n"
     ]
    }
   ],
   "source": [
    "# Inheritance2 -> use instance as attribute\n",
    "\n",
    "class Car():\n",
    "    def __init__(self,make):\n",
    "        self.make = make\n",
    "    def car_name(self):\n",
    "        return \"I like \" + str(self.make) + \"!\"\n",
    "\n",
    "class Battery():\n",
    "    def __init__(self,battery_size=70):\n",
    "        self.battery_size = battery_size\n",
    "    def describe_battery(self):\n",
    "        return \"This car has a \" + str(self.battery_size) + \"-kwh battery.\"\n",
    "    \n",
    "class ElectricCar(Car): # Son\n",
    "    def __init__(self,make):\n",
    "        super().__init__(make) # Must add \"super\"\n",
    "        self.battery = Battery() # use the instance class as attribute \" battery\"\n",
    "\n",
    "my_car = Car('Audi')\n",
    "print(my_car.car_name())\n",
    "\n",
    "my_tesla = ElectricCar('Tesla')\n",
    "print(my_tesla.battery.describe_battery())\n"
   ]
  },
  {
   "cell_type": "code",
   "execution_count": null,
   "metadata": {},
   "outputs": [],
   "source": [
    "# Import Class\n",
    "# Step one: create a car.py and include all the codes (class & def)\n",
    "# class Car:\n",
    "    # -----------\n",
    "\n",
    "# Step two:\n",
    "from car import Car, ElectricCar\n",
    "\n",
    "# Done and you can use the function directly\n",
    "    "
   ]
  }
 ],
 "metadata": {
  "kernelspec": {
   "display_name": "Python 3",
   "language": "python",
   "name": "python3"
  },
  "language_info": {
   "codemirror_mode": {
    "name": "ipython",
    "version": 3
   },
   "file_extension": ".py",
   "mimetype": "text/x-python",
   "name": "python",
   "nbconvert_exporter": "python",
   "pygments_lexer": "ipython3",
   "version": "3.7.4"
  }
 },
 "nbformat": 4,
 "nbformat_minor": 2
}
